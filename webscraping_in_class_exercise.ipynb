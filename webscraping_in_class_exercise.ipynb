{
  "nbformat": 4,
  "nbformat_minor": 0,
  "metadata": {
    "anaconda-cloud": {},
    "kernelspec": {
      "display_name": "Python 3",
      "language": "python",
      "name": "python3"
    },
    "language_info": {
      "codemirror_mode": {
        "name": "ipython",
        "version": 3
      },
      "file_extension": ".py",
      "mimetype": "text/x-python",
      "name": "python",
      "nbconvert_exporter": "python",
      "pygments_lexer": "ipython3",
      "version": "3.6.4"
    },
    "colab": {
      "name": "webscraping-in-class-exercise.ipynb",
      "provenance": [],
      "include_colab_link": true
    }
  },
  "cells": [
    {
      "cell_type": "markdown",
      "metadata": {
        "id": "view-in-github",
        "colab_type": "text"
      },
      "source": [
        "<a href=\"https://colab.research.google.com/github/denkhbat/ISOM-730-/blob/master/webscraping_in_class_exercise.ipynb\" target=\"_parent\"><img src=\"https://colab.research.google.com/assets/colab-badge.svg\" alt=\"Open In Colab\"/></a>"
      ]
    },
    {
      "cell_type": "markdown",
      "metadata": {
        "collapsed": true,
        "id": "TZgQD_wjqmym",
        "colab_type": "text"
      },
      "source": [
        "<img src=\"http://imgur.com/1ZcRyrc.png\" style=\"float: left; margin: 20px; height: 55px\">\n",
        "\n",
        "# Web Scraping: Solutions\n",
        "\n",
        "_Author: Joseph Nelson (DC)_\n",
        "\n",
        "---"
      ]
    },
    {
      "cell_type": "markdown",
      "metadata": {
        "id": "MfvZ7Pjkqmyx",
        "colab_type": "text"
      },
      "source": [
        "## Before Class\n",
        "\n",
        "#### Install Selenium\n",
        "\n",
        "Selenium is a headless browser. It allows us to render JavaScript just as a human-navigated browser would.\n",
        "\n",
        "To install Selenium, use one of the following:\n",
        "- **Anaconda:** `conda install -c conda-forge selenium`\n",
        "- **pip:** `pip install selenium`\n",
        "\n",
        "\n",
        "#### Install GeckoDriver\n",
        "\n",
        "You will also need GeckoDriver (this assumes you are using Homebrew for Mac): \n",
        "\n",
        "- ```brew install geckodriver```\n",
        "\n",
        "#### Install Firefox\n",
        "\n",
        "Additionally, you will need to have downloaded the [Firefox browser](https://www.mozilla.org/en-US/firefox/new/?utm_source=google&utm_medium=cpc&utm_campaign=Firefox-Brand-US-GGL-Exact&utm_term=firefox&utm_content=A144_A203_A006336&gclid=Cj0KEQjwnPLKBRC-j7nt1b7OlZwBEiQAv8lMLJUyReT6cPzSYdmEA6uD3YDoieuuuusddgAU7XH6smEaAoje8P8HAQ&gclsrc=aw.ds) for the application in this lesson."
      ]
    },
    {
      "cell_type": "markdown",
      "metadata": {
        "id": "QTPfHKOvqmy2",
        "colab_type": "text"
      },
      "source": [
        "## Learning Objectives\n",
        "- Revisit how to locate elements on a webpage\n",
        "- Aquire unstructure data from the internet using Beautiful soup.\n",
        "- Discuss limitations associated with simple requests and urllib libraries\n",
        "- Introduce Selenium as a solution, and implement a scraper using selenium"
      ]
    },
    {
      "cell_type": "markdown",
      "metadata": {
        "id": "NXRiAf_6qmy6",
        "colab_type": "text"
      },
      "source": [
        "## Lesson Guide\n",
        "\n",
        "- [Introduction](#intro)\n",
        "- [Building a web scraper](#building-scraper)\n",
        "- [Retrieving data from the HTML page](#retrieving-data)\n",
        "    - [Retrieving the restaurant names](#retrieving-names)\n",
        "    - [Challenge: Retrieving the restaurant locations](#retrieving-locations)\n",
        "    - [Retrieving the restaurant prices](#retrieving-prices)\n",
        "    - [Retrieving the restaurant number of bookings](#retrieving-bookings)\n",
        "\n",
        "\n",
        "- [Introducting Selenium](#selenium)\n",
        "    - [Running JavaScript before scraping](#selenium-js)\n",
        "    - [Using regex to only get digits](#selenium-regex)\n",
        "    - [Challenge: Use Pandas to create a DataFrame of bookings](#challenge-pandas)\n",
        "    - [Auto-typing using Selenium](#selenium-typing)\n",
        "\n",
        "\n",
        "- [Summary](#summary)"
      ]
    },
    {
      "cell_type": "markdown",
      "metadata": {
        "id": "I_fpGcBJqmy9",
        "colab_type": "text"
      },
      "source": [
        "<a id=\"intro\"></a>\n",
        "## Introduction\n",
        "\n",
        "In this codealong lesson, we'll build a web scraper using urllib and BeautifulSoup. We will also explore how to use a headless browser called Selenium.\n",
        "\n",
        "We'll begin by scraping OpenTable's DC listings. We're interested in knowing the restaurant's **name, location, price, and how many people booked it today.**\n",
        "\n",
        "OpenTable provides all of this information on this given page: http://www.opentable.com/washington-dc-restaurant-listings\n",
        "\n",
        "Let's inspect the elements of this page to assure we can find each of the bits of information in which we're interested.\n",
        "\n",
        "---"
      ]
    },
    {
      "cell_type": "markdown",
      "metadata": {
        "id": "t6d901c6qmzB",
        "colab_type": "text"
      },
      "source": [
        "<a id=\"building-scraper\"></a>\n",
        "## Building a web scraper\n",
        "\n",
        "Now, let's build a web scraper for OpenTable using urllib and Beautiful Soup:"
      ]
    },
    {
      "cell_type": "code",
      "metadata": {
        "scrolled": false,
        "id": "s6ZQ79-BqmzH",
        "colab_type": "code",
        "colab": {}
      },
      "source": [
        "# import our necessary first packages\n",
        "from bs4 import BeautifulSoup\n",
        "import requests"
      ],
      "execution_count": 0,
      "outputs": []
    },
    {
      "cell_type": "code",
      "metadata": {
        "id": "AjUYT1jeqmzV",
        "colab_type": "code",
        "colab": {}
      },
      "source": [
        "# set the url we want to visit\n",
        "url = \"http://www.opentable.com/washington-dc-restaurant-listings\"\n",
        "\n",
        "# visit that url, and grab the html of said page\n",
        "html = requests.get(url)"
      ],
      "execution_count": 0,
      "outputs": []
    },
    {
      "cell_type": "markdown",
      "metadata": {
        "id": "zLKEZ_78qmzh",
        "colab_type": "text"
      },
      "source": [
        "At this point, what is in html?"
      ]
    },
    {
      "cell_type": "code",
      "metadata": {
        "id": "Mo8kOTMmqmzn",
        "colab_type": "code",
        "colab": {
          "base_uri": "https://localhost:8080/",
          "height": 54
        },
        "outputId": "ff08862f-7d68-4da3-c9c3-89d3ed6ff64a"
      },
      "source": [
        "# .text returns the request content in Unicode\n",
        "html.text[:500]"
      ],
      "execution_count": 4,
      "outputs": [
        {
          "output_type": "execute_result",
          "data": {
            "text/plain": [
              "'           <!DOCTYPE html><html lang=\"en\"><head><meta charset=\"utf-8\"/><meta http-equiv=\"X-UA-Compatible\" content=\"IE=9; IE=8; IE=7; IE=EDGE\"/> <title>Restaurant Reservation Availability</title>    <meta  name=\"robots\" content=\"noindex,nofollow\" > </meta>     <link rel=\"shortcut icon\" href=\"//components.otstatic.com/components/favicon/1.0.6/favicon/favicon.ico\" type=\"image/x-icon\"/><link rel=\"icon\" href=\"//components.otstatic.com/components/favicon/1.0.6/favicon/favicon-16.png\" sizes=\"16x16\"/><l'"
            ]
          },
          "metadata": {
            "tags": []
          },
          "execution_count": 4
        }
      ]
    },
    {
      "cell_type": "markdown",
      "metadata": {
        "id": "5GUWI8F2qmz4",
        "colab_type": "text"
      },
      "source": [
        "We will need to convert this html objct into a soup object so we can parse it using python and BS4"
      ]
    },
    {
      "cell_type": "code",
      "metadata": {
        "id": "u8M9NDZeqmz7",
        "colab_type": "code",
        "colab": {}
      },
      "source": [
        "# convert this into a soup object\n",
        "soup = BeautifulSoup(html.text, 'html.parser')"
      ],
      "execution_count": 0,
      "outputs": []
    },
    {
      "cell_type": "markdown",
      "metadata": {
        "id": "YSayYO9dqm0N",
        "colab_type": "text"
      },
      "source": [
        "<a id=\"retrieving-data\"></a>\n",
        "### Retrieving data from the HTML page"
      ]
    },
    {
      "cell_type": "markdown",
      "metadata": {
        "id": "hMWoneUcqm0U",
        "colab_type": "text"
      },
      "source": [
        "Let's first find each restaurant name listed on the page we've loaded. How do we find the page location of the restaurant? (Hint: We need to know where in the **HTML** the restaurant element is housed.) In order to find the HTML that renders the restaurant location, we can use Google Chrome's Inspect tool:\n",
        "\n",
        "> http://www.opentable.com/washington-dc-restaurant-listings\n",
        "\n",
        "> 1. Visit the URL above. \n",
        "\n",
        "> 2. Right-click on an element you are interested in, then choose Inspect (in Chrome). \n",
        "\n",
        "> 3. This will open the Developer Tools and show the HTML used to render the selected page element. \n",
        "\n",
        "> Throughout this lesson, we will use this method to find tags associated with elements of the page we want to scrape.\n",
        "\n",
        "See if you can find the restaurant name on the page. Keep in mind there are many restaurants loaded on the page."
      ]
    },
    {
      "cell_type": "code",
      "metadata": {
        "scrolled": true,
        "id": "xaoN_iQ2qm0b",
        "colab_type": "code",
        "colab": {
          "base_uri": "https://localhost:8080/",
          "height": 1000
        },
        "outputId": "568db381-15cb-4889-de90-6dfe015622b7"
      },
      "source": [
        "# print the restaurant names\n",
        "soup.find_all(name='span', attrs={'class':'rest-row-name-text'})"
      ],
      "execution_count": 6,
      "outputs": [
        {
          "output_type": "execute_result",
          "data": {
            "text/plain": [
              "[<span class=\"rest-row-name-text\">Lesleys</span>,\n",
              " <span class=\"rest-row-name-text\">Brendon Jenkins</span>,\n",
              " <span class=\"rest-row-name-text\">Zemlak Freeway</span>,\n",
              " <span class=\"rest-row-name-text\">Optio Ridge</span>,\n",
              " <span class=\"rest-row-name-text\">Jackeline Toy</span>,\n",
              " <span class=\"rest-row-name-text\">Well</span>,\n",
              " <span class=\"rest-row-name-text\">Connies</span>,\n",
              " <span class=\"rest-row-name-text\">Centers</span>,\n",
              " <span class=\"rest-row-name-text\">Pauls</span>,\n",
              " <span class=\"rest-row-name-text\">Vero Windler</span>,\n",
              " <span class=\"rest-row-name-text\">Laudantium O'Hara</span>,\n",
              " <span class=\"rest-row-name-text\">Commodi</span>,\n",
              " <span class=\"rest-row-name-text\">Mayert</span>,\n",
              " <span class=\"rest-row-name-text\">Reynolds</span>,\n",
              " <span class=\"rest-row-name-text\">Bethanys</span>,\n",
              " <span class=\"rest-row-name-text\">491 Konopelski</span>,\n",
              " <span class=\"rest-row-name-text\">A</span>,\n",
              " <span class=\"rest-row-name-text\">Est Miller</span>,\n",
              " <span class=\"rest-row-name-text\">Amie Isle</span>,\n",
              " <span class=\"rest-row-name-text\">Et</span>,\n",
              " <span class=\"rest-row-name-text\">705 Robel</span>,\n",
              " <span class=\"rest-row-name-text\">Mohr Ville</span>,\n",
              " <span class=\"rest-row-name-text\">814 O'Reilly</span>,\n",
              " <span class=\"rest-row-name-text\">974 Eichmann</span>,\n",
              " <span class=\"rest-row-name-text\">Station</span>,\n",
              " <span class=\"rest-row-name-text\">Leffler</span>,\n",
              " <span class=\"rest-row-name-text\">Willys</span>,\n",
              " <span class=\"rest-row-name-text\">151 Heaney</span>,\n",
              " <span class=\"rest-row-name-text\">Jonathons</span>,\n",
              " <span class=\"rest-row-name-text\">Maiya Leannon</span>,\n",
              " <span class=\"rest-row-name-text\">Tempora Bednar</span>,\n",
              " <span class=\"rest-row-name-text\">Aubree Runolfsdottir</span>,\n",
              " <span class=\"rest-row-name-text\">10 Rempel</span>,\n",
              " <span class=\"rest-row-name-text\">Qui</span>,\n",
              " <span class=\"rest-row-name-text\">Odio Lodge</span>,\n",
              " <span class=\"rest-row-name-text\">Viaduct</span>,\n",
              " <span class=\"rest-row-name-text\">Elda Herman</span>,\n",
              " <span class=\"rest-row-name-text\">Ways</span>,\n",
              " <span class=\"rest-row-name-text\">753 Gutmann</span>,\n",
              " <span class=\"rest-row-name-text\">Consequatur</span>,\n",
              " <span class=\"rest-row-name-text\">Felicity Rodriguez</span>,\n",
              " <span class=\"rest-row-name-text\">1110 Haag</span>,\n",
              " <span class=\"rest-row-name-text\">Quisquam Overpass</span>,\n",
              " <span class=\"rest-row-name-text\">Nostrum</span>,\n",
              " <span class=\"rest-row-name-text\">Gaylord Greens</span>,\n",
              " <span class=\"rest-row-name-text\">Est Kessler</span>,\n",
              " <span class=\"rest-row-name-text\">562 Muller</span>,\n",
              " <span class=\"rest-row-name-text\">Ivas</span>,\n",
              " <span class=\"rest-row-name-text\">Ex Medhurst</span>,\n",
              " <span class=\"rest-row-name-text\">20 Kulas</span>,\n",
              " <span class=\"rest-row-name-text\">Quidem</span>,\n",
              " <span class=\"rest-row-name-text\">Agloe Bar &amp; Grill</span>,\n",
              " <span class=\"rest-row-name-text\">Shanel Fall</span>,\n",
              " <span class=\"rest-row-name-text\">Incidunt</span>,\n",
              " <span class=\"rest-row-name-text\">Dominic Ziemann</span>,\n",
              " <span class=\"rest-row-name-text\">Provident Welch</span>,\n",
              " <span class=\"rest-row-name-text\">1010 Pfannerstill</span>,\n",
              " <span class=\"rest-row-name-text\">Glens</span>,\n",
              " <span class=\"rest-row-name-text\">Berta Gleason</span>,\n",
              " <span class=\"rest-row-name-text\">Lang</span>,\n",
              " <span class=\"rest-row-name-text\">Larson Prairie</span>,\n",
              " <span class=\"rest-row-name-text\">Asperiores Reynolds</span>,\n",
              " <span class=\"rest-row-name-text\">Views</span>,\n",
              " <span class=\"rest-row-name-text\">Alvah Kovacek</span>,\n",
              " <span class=\"rest-row-name-text\">Cynthia Creek</span>,\n",
              " <span class=\"rest-row-name-text\">Lucious Auer</span>,\n",
              " <span class=\"rest-row-name-text\">Harum Shoal</span>,\n",
              " <span class=\"rest-row-name-text\">Braun</span>,\n",
              " <span class=\"rest-row-name-text\">Alexiss</span>,\n",
              " <span class=\"rest-row-name-text\">Kaileys</span>,\n",
              " <span class=\"rest-row-name-text\">Bradly Padberg</span>,\n",
              " <span class=\"rest-row-name-text\">Adipisci Rapid</span>,\n",
              " <span class=\"rest-row-name-text\">Schinner</span>,\n",
              " <span class=\"rest-row-name-text\">Grovers</span>,\n",
              " <span class=\"rest-row-name-text\">Voluptatem</span>,\n",
              " <span class=\"rest-row-name-text\">Hintz Walks</span>,\n",
              " <span class=\"rest-row-name-text\">Squares</span>,\n",
              " <span class=\"rest-row-name-text\">Tianna Manors</span>,\n",
              " <span class=\"rest-row-name-text\">1341 Powlowski</span>,\n",
              " <span class=\"rest-row-name-text\">Dicta</span>,\n",
              " <span class=\"rest-row-name-text\">Kertzmann</span>,\n",
              " <span class=\"rest-row-name-text\">Schroeder</span>,\n",
              " <span class=\"rest-row-name-text\">1500 McGlynn</span>,\n",
              " <span class=\"rest-row-name-text\">Repellendus Haley</span>,\n",
              " <span class=\"rest-row-name-text\">Dawson Sipes</span>,\n",
              " <span class=\"rest-row-name-text\">1442 Stokes</span>,\n",
              " <span class=\"rest-row-name-text\">837 Corkery</span>,\n",
              " <span class=\"rest-row-name-text\">Gaetanos</span>,\n",
              " <span class=\"rest-row-name-text\">Jerrods</span>,\n",
              " <span class=\"rest-row-name-text\">Reichel</span>,\n",
              " <span class=\"rest-row-name-text\">Candace Rogahn</span>,\n",
              " <span class=\"rest-row-name-text\">Accusamus</span>,\n",
              " <span class=\"rest-row-name-text\">Delaney Mount</span>,\n",
              " <span class=\"rest-row-name-text\">Becker</span>,\n",
              " <span class=\"rest-row-name-text\">Schowalter</span>,\n",
              " <span class=\"rest-row-name-text\">Rasheed Luettgen</span>,\n",
              " <span class=\"rest-row-name-text\">Eum Beahan</span>,\n",
              " <span class=\"rest-row-name-text\">Shannys</span>,\n",
              " <span class=\"rest-row-name-text\">455 Schaden</span>,\n",
              " <span class=\"rest-row-name-text\">Marks</span>]"
            ]
          },
          "metadata": {
            "tags": []
          },
          "execution_count": 6
        }
      ]
    },
    {
      "cell_type": "markdown",
      "metadata": {
        "id": "EY0peKGUqm0q",
        "colab_type": "text"
      },
      "source": [
        "It is important to always keep in mind the data types that were returned. Note this is a `list`, and we know that immediately by observing the outer square brackets and commas separating each tag.\n",
        "\n",
        "Next, note the elements of the list are `Tag` objects, not strings. (If they were strings, they would be surrounded by quotes.) The Beautiful Soup authors chose to display a `Tag` object visually as a text representation of the tag and its contents. However, being an object, it has many methods that we can call on it. For example, next we will use the `encode_contents()` method to return the tag's contents encoded as a Python string.\n",
        "\n",
        "<a id=\"retrieving-names\"></a>\n",
        "#### Retrieving the restaurant names\n",
        "\n",
        "Now that we found a list of tags containing the restaurant names, let's think how we can loop through them all one-by-one. In the following cell, we'll print out the name (and **only** the clean name, not the rest of the html) of each restaurant."
      ]
    },
    {
      "cell_type": "code",
      "metadata": {
        "id": "GujdOH-3qm0t",
        "colab_type": "code",
        "colab": {
          "base_uri": "https://localhost:8080/",
          "height": 1000
        },
        "outputId": "08156039-5328-4956-d259-9ccbac95bb63"
      },
      "source": [
        "# for each element you find, print out the restaurant name\n",
        "for entry in soup.find_all(name='span', attrs={'class':'rest-row-name-text'}):\n",
        "    print(entry.text)"
      ],
      "execution_count": 7,
      "outputs": [
        {
          "output_type": "stream",
          "text": [
            "Lesleys\n",
            "Brendon Jenkins\n",
            "Zemlak Freeway\n",
            "Optio Ridge\n",
            "Jackeline Toy\n",
            "Well\n",
            "Connies\n",
            "Centers\n",
            "Pauls\n",
            "Vero Windler\n",
            "Laudantium O'Hara\n",
            "Commodi\n",
            "Mayert\n",
            "Reynolds\n",
            "Bethanys\n",
            "491 Konopelski\n",
            "A\n",
            "Est Miller\n",
            "Amie Isle\n",
            "Et\n",
            "705 Robel\n",
            "Mohr Ville\n",
            "814 O'Reilly\n",
            "974 Eichmann\n",
            "Station\n",
            "Leffler\n",
            "Willys\n",
            "151 Heaney\n",
            "Jonathons\n",
            "Maiya Leannon\n",
            "Tempora Bednar\n",
            "Aubree Runolfsdottir\n",
            "10 Rempel\n",
            "Qui\n",
            "Odio Lodge\n",
            "Viaduct\n",
            "Elda Herman\n",
            "Ways\n",
            "753 Gutmann\n",
            "Consequatur\n",
            "Felicity Rodriguez\n",
            "1110 Haag\n",
            "Quisquam Overpass\n",
            "Nostrum\n",
            "Gaylord Greens\n",
            "Est Kessler\n",
            "562 Muller\n",
            "Ivas\n",
            "Ex Medhurst\n",
            "20 Kulas\n",
            "Quidem\n",
            "Agloe Bar & Grill\n",
            "Shanel Fall\n",
            "Incidunt\n",
            "Dominic Ziemann\n",
            "Provident Welch\n",
            "1010 Pfannerstill\n",
            "Glens\n",
            "Berta Gleason\n",
            "Lang\n",
            "Larson Prairie\n",
            "Asperiores Reynolds\n",
            "Views\n",
            "Alvah Kovacek\n",
            "Cynthia Creek\n",
            "Lucious Auer\n",
            "Harum Shoal\n",
            "Braun\n",
            "Alexiss\n",
            "Kaileys\n",
            "Bradly Padberg\n",
            "Adipisci Rapid\n",
            "Schinner\n",
            "Grovers\n",
            "Voluptatem\n",
            "Hintz Walks\n",
            "Squares\n",
            "Tianna Manors\n",
            "1341 Powlowski\n",
            "Dicta\n",
            "Kertzmann\n",
            "Schroeder\n",
            "1500 McGlynn\n",
            "Repellendus Haley\n",
            "Dawson Sipes\n",
            "1442 Stokes\n",
            "837 Corkery\n",
            "Gaetanos\n",
            "Jerrods\n",
            "Reichel\n",
            "Candace Rogahn\n",
            "Accusamus\n",
            "Delaney Mount\n",
            "Becker\n",
            "Schowalter\n",
            "Rasheed Luettgen\n",
            "Eum Beahan\n",
            "Shannys\n",
            "455 Schaden\n",
            "Marks\n"
          ],
          "name": "stdout"
        }
      ]
    },
    {
      "cell_type": "markdown",
      "metadata": {
        "id": "20eKmgIdvza7",
        "colab_type": "text"
      },
      "source": [
        ""
      ]
    },
    {
      "cell_type": "code",
      "metadata": {
        "id": "vfj6_XuUv0fT",
        "colab_type": "code",
        "colab": {
          "base_uri": "https://localhost:8080/",
          "height": 34
        },
        "outputId": "940b8a0d-22d7-4014-a689-562e825195ac"
      },
      "source": [
        "#getting restaurant review numbers\n",
        "\n",
        "for review in soup.find_all(name='span',attrs={'class':'review-link'}):\n",
        "  print(review)"
      ],
      "execution_count": 8,
      "outputs": [
        {
          "output_type": "stream",
          "text": [
            "Repeat this search showing omitted results\n"
          ],
          "name": "stdout"
        }
      ]
    },
    {
      "cell_type": "markdown",
      "metadata": {
        "id": "4QJSuf1gqm09",
        "colab_type": "text"
      },
      "source": [
        "Great!\n",
        "\n",
        "<a id=\"retrieving-locations\"></a>\n",
        "#### Challenge: Retrieving the restaurant locations\n",
        "\n",
        "Can you repeat that process for finding the location? For example, barmini by Jose Andres is in the location listed as \"Penn Quarter\" in our search results."
      ]
    },
    {
      "cell_type": "code",
      "metadata": {
        "id": "DyEZBzpxqm1A",
        "colab_type": "code",
        "colab": {},
        "outputId": "d84ce9de-7880-489f-9aae-9c044bf4e746"
      },
      "source": [
        "# first, see if you can identify the location for all elements -- print it out\n",
        "soup.find_all('span', {'class':'rest-row-meta--location rest-row-meta-text'})"
      ],
      "execution_count": 0,
      "outputs": [
        {
          "output_type": "execute_result",
          "data": {
            "text/plain": [
              "[<span class=\"rest-row-meta--location rest-row-meta-text\">Cristview</span>,\n",
              " <span class=\"rest-row-meta--location rest-row-meta-text\">Hermanshire</span>,\n",
              " <span class=\"rest-row-meta--location rest-row-meta-text\">Vernerville</span>,\n",
              " <span class=\"rest-row-meta--location rest-row-meta-text\">Lake Rosaliastad</span>,\n",
              " <span class=\"rest-row-meta--location rest-row-meta-text\">East Griffin</span>,\n",
              " <span class=\"rest-row-meta--location rest-row-meta-text\">Quinnshire</span>,\n",
              " <span class=\"rest-row-meta--location rest-row-meta-text\">Greggmouth</span>,\n",
              " <span class=\"rest-row-meta--location rest-row-meta-text\">Paxtonburgh</span>,\n",
              " <span class=\"rest-row-meta--location rest-row-meta-text\">Bahringerside</span>,\n",
              " <span class=\"rest-row-meta--location rest-row-meta-text\">West Jerald</span>,\n",
              " <span class=\"rest-row-meta--location rest-row-meta-text\">Lake Kennedi</span>,\n",
              " <span class=\"rest-row-meta--location rest-row-meta-text\">South Simeon</span>,\n",
              " <span class=\"rest-row-meta--location rest-row-meta-text\">Arielview</span>,\n",
              " <span class=\"rest-row-meta--location rest-row-meta-text\">Merlinville</span>,\n",
              " <span class=\"rest-row-meta--location rest-row-meta-text\">Port Clemens</span>,\n",
              " <span class=\"rest-row-meta--location rest-row-meta-text\">Faytown</span>,\n",
              " <span class=\"rest-row-meta--location rest-row-meta-text\">Port Wayneton</span>,\n",
              " <span class=\"rest-row-meta--location rest-row-meta-text\">West Agustin</span>,\n",
              " <span class=\"rest-row-meta--location rest-row-meta-text\">Port Erna</span>,\n",
              " <span class=\"rest-row-meta--location rest-row-meta-text\">Florineside</span>,\n",
              " <span class=\"rest-row-meta--location rest-row-meta-text\">North Janice</span>,\n",
              " <span class=\"rest-row-meta--location rest-row-meta-text\">North Sylvester</span>,\n",
              " <span class=\"rest-row-meta--location rest-row-meta-text\">West Abel</span>,\n",
              " <span class=\"rest-row-meta--location rest-row-meta-text\">Millsshire</span>,\n",
              " <span class=\"rest-row-meta--location rest-row-meta-text\">New Brendan</span>,\n",
              " <span class=\"rest-row-meta--location rest-row-meta-text\">Reillyport</span>,\n",
              " <span class=\"rest-row-meta--location rest-row-meta-text\">East Nelson</span>,\n",
              " <span class=\"rest-row-meta--location rest-row-meta-text\">Stantontown</span>,\n",
              " <span class=\"rest-row-meta--location rest-row-meta-text\">South Donato</span>,\n",
              " <span class=\"rest-row-meta--location rest-row-meta-text\">Janiyaton</span>,\n",
              " <span class=\"rest-row-meta--location rest-row-meta-text\">Bernadetteside</span>,\n",
              " <span class=\"rest-row-meta--location rest-row-meta-text\">New Mabelside</span>,\n",
              " <span class=\"rest-row-meta--location rest-row-meta-text\">South Clark</span>,\n",
              " <span class=\"rest-row-meta--location rest-row-meta-text\">Port Loyborough</span>,\n",
              " <span class=\"rest-row-meta--location rest-row-meta-text\">Malvinaville</span>,\n",
              " <span class=\"rest-row-meta--location rest-row-meta-text\">New Rodrick</span>,\n",
              " <span class=\"rest-row-meta--location rest-row-meta-text\">South Eldridgeborough</span>,\n",
              " <span class=\"rest-row-meta--location rest-row-meta-text\">Thadfort</span>,\n",
              " <span class=\"rest-row-meta--location rest-row-meta-text\">West Glendastad</span>,\n",
              " <span class=\"rest-row-meta--location rest-row-meta-text\">Cruickshankfurt</span>,\n",
              " <span class=\"rest-row-meta--location rest-row-meta-text\">Kaileyport</span>,\n",
              " <span class=\"rest-row-meta--location rest-row-meta-text\">West Janychester</span>,\n",
              " <span class=\"rest-row-meta--location rest-row-meta-text\">Satterfieldshire</span>,\n",
              " <span class=\"rest-row-meta--location rest-row-meta-text\">West Stephanie</span>,\n",
              " <span class=\"rest-row-meta--location rest-row-meta-text\">Port Olgaborough</span>,\n",
              " <span class=\"rest-row-meta--location rest-row-meta-text\">East Gabriellaton</span>,\n",
              " <span class=\"rest-row-meta--location rest-row-meta-text\">East Reannachester</span>,\n",
              " <span class=\"rest-row-meta--location rest-row-meta-text\">New Immanuel</span>,\n",
              " <span class=\"rest-row-meta--location rest-row-meta-text\">New Herbert</span>,\n",
              " <span class=\"rest-row-meta--location rest-row-meta-text\">East Maudie</span>,\n",
              " <span class=\"rest-row-meta--location rest-row-meta-text\">Toneychester</span>,\n",
              " <span class=\"rest-row-meta--location rest-row-meta-text\">Lake Aileenville</span>,\n",
              " <span class=\"rest-row-meta--location rest-row-meta-text\">Shemarview</span>,\n",
              " <span class=\"rest-row-meta--location rest-row-meta-text\">New Chynachester</span>,\n",
              " <span class=\"rest-row-meta--location rest-row-meta-text\">Stiedemannhaven</span>,\n",
              " <span class=\"rest-row-meta--location rest-row-meta-text\">Bernadineshire</span>,\n",
              " <span class=\"rest-row-meta--location rest-row-meta-text\">Port Gretchenchester</span>,\n",
              " <span class=\"rest-row-meta--location rest-row-meta-text\">Iantown</span>,\n",
              " <span class=\"rest-row-meta--location rest-row-meta-text\">Quintonberg</span>,\n",
              " <span class=\"rest-row-meta--location rest-row-meta-text\">North Joaquinshire</span>,\n",
              " <span class=\"rest-row-meta--location rest-row-meta-text\">Traceytown</span>,\n",
              " <span class=\"rest-row-meta--location rest-row-meta-text\">Stiedemannburgh</span>,\n",
              " <span class=\"rest-row-meta--location rest-row-meta-text\">West Jaylon</span>,\n",
              " <span class=\"rest-row-meta--location rest-row-meta-text\">West Patiencebury</span>,\n",
              " <span class=\"rest-row-meta--location rest-row-meta-text\">South Arloport</span>,\n",
              " <span class=\"rest-row-meta--location rest-row-meta-text\">South Giaview</span>,\n",
              " <span class=\"rest-row-meta--location rest-row-meta-text\">Port Ashton</span>,\n",
              " <span class=\"rest-row-meta--location rest-row-meta-text\">Lennaberg</span>,\n",
              " <span class=\"rest-row-meta--location rest-row-meta-text\">North Weldon</span>,\n",
              " <span class=\"rest-row-meta--location rest-row-meta-text\">Lake Quentin</span>,\n",
              " <span class=\"rest-row-meta--location rest-row-meta-text\">East Jessicafort</span>,\n",
              " <span class=\"rest-row-meta--location rest-row-meta-text\">Lake Julienport</span>,\n",
              " <span class=\"rest-row-meta--location rest-row-meta-text\">Westshire</span>,\n",
              " <span class=\"rest-row-meta--location rest-row-meta-text\">East Salvadorton</span>,\n",
              " <span class=\"rest-row-meta--location rest-row-meta-text\">Port Eunaville</span>,\n",
              " <span class=\"rest-row-meta--location rest-row-meta-text\">Lake Henderson</span>,\n",
              " <span class=\"rest-row-meta--location rest-row-meta-text\">Angelineborough</span>,\n",
              " <span class=\"rest-row-meta--location rest-row-meta-text\">Lake Chadrickland</span>,\n",
              " <span class=\"rest-row-meta--location rest-row-meta-text\">Lake Daphnebury</span>,\n",
              " <span class=\"rest-row-meta--location rest-row-meta-text\">Erichview</span>,\n",
              " <span class=\"rest-row-meta--location rest-row-meta-text\">Lake Zita</span>,\n",
              " <span class=\"rest-row-meta--location rest-row-meta-text\">West Eduardohaven</span>,\n",
              " <span class=\"rest-row-meta--location rest-row-meta-text\">Traceyfort</span>,\n",
              " <span class=\"rest-row-meta--location rest-row-meta-text\">Creminville</span>,\n",
              " <span class=\"rest-row-meta--location rest-row-meta-text\">Kalefort</span>,\n",
              " <span class=\"rest-row-meta--location rest-row-meta-text\">Zanderberg</span>,\n",
              " <span class=\"rest-row-meta--location rest-row-meta-text\">West Soniaborough</span>,\n",
              " <span class=\"rest-row-meta--location rest-row-meta-text\">Port Tatyana</span>,\n",
              " <span class=\"rest-row-meta--location rest-row-meta-text\">South Ludie</span>,\n",
              " <span class=\"rest-row-meta--location rest-row-meta-text\">North Harmonyshire</span>,\n",
              " <span class=\"rest-row-meta--location rest-row-meta-text\">Dachside</span>,\n",
              " <span class=\"rest-row-meta--location rest-row-meta-text\">Kamrontown</span>,\n",
              " <span class=\"rest-row-meta--location rest-row-meta-text\">Gerlachton</span>,\n",
              " <span class=\"rest-row-meta--location rest-row-meta-text\">North Shaylee</span>,\n",
              " <span class=\"rest-row-meta--location rest-row-meta-text\">South Wyattberg</span>,\n",
              " <span class=\"rest-row-meta--location rest-row-meta-text\">North Godfreystad</span>,\n",
              " <span class=\"rest-row-meta--location rest-row-meta-text\">Hanehaven</span>,\n",
              " <span class=\"rest-row-meta--location rest-row-meta-text\">Port Pearl</span>,\n",
              " <span class=\"rest-row-meta--location rest-row-meta-text\">Russelborough</span>,\n",
              " <span class=\"rest-row-meta--location rest-row-meta-text\">Jaydebury</span>]"
            ]
          },
          "metadata": {
            "tags": []
          },
          "execution_count": 16
        }
      ]
    },
    {
      "cell_type": "code",
      "metadata": {
        "id": "y2aKu8Rqqm1J",
        "colab_type": "code",
        "colab": {},
        "outputId": "90b04ace-df23-4138-bc65-e167bf50a9d9"
      },
      "source": [
        "# now print out EACH location for the restaurants\n",
        "for entry in soup.find_all('span', {'class':'rest-row-meta--location rest-row-meta-text'}):\n",
        "    print(entry.text)"
      ],
      "execution_count": 0,
      "outputs": [
        {
          "output_type": "stream",
          "text": [
            "Cristview\n",
            "Hermanshire\n",
            "Vernerville\n",
            "Lake Rosaliastad\n",
            "East Griffin\n",
            "Quinnshire\n",
            "Greggmouth\n",
            "Paxtonburgh\n",
            "Bahringerside\n",
            "West Jerald\n",
            "Lake Kennedi\n",
            "South Simeon\n",
            "Arielview\n",
            "Merlinville\n",
            "Port Clemens\n",
            "Faytown\n",
            "Port Wayneton\n",
            "West Agustin\n",
            "Port Erna\n",
            "Florineside\n",
            "North Janice\n",
            "North Sylvester\n",
            "West Abel\n",
            "Millsshire\n",
            "New Brendan\n",
            "Reillyport\n",
            "East Nelson\n",
            "Stantontown\n",
            "South Donato\n",
            "Janiyaton\n",
            "Bernadetteside\n",
            "New Mabelside\n",
            "South Clark\n",
            "Port Loyborough\n",
            "Malvinaville\n",
            "New Rodrick\n",
            "South Eldridgeborough\n",
            "Thadfort\n",
            "West Glendastad\n",
            "Cruickshankfurt\n",
            "Kaileyport\n",
            "West Janychester\n",
            "Satterfieldshire\n",
            "West Stephanie\n",
            "Port Olgaborough\n",
            "East Gabriellaton\n",
            "East Reannachester\n",
            "New Immanuel\n",
            "New Herbert\n",
            "East Maudie\n",
            "Toneychester\n",
            "Lake Aileenville\n",
            "Shemarview\n",
            "New Chynachester\n",
            "Stiedemannhaven\n",
            "Bernadineshire\n",
            "Port Gretchenchester\n",
            "Iantown\n",
            "Quintonberg\n",
            "North Joaquinshire\n",
            "Traceytown\n",
            "Stiedemannburgh\n",
            "West Jaylon\n",
            "West Patiencebury\n",
            "South Arloport\n",
            "South Giaview\n",
            "Port Ashton\n",
            "Lennaberg\n",
            "North Weldon\n",
            "Lake Quentin\n",
            "East Jessicafort\n",
            "Lake Julienport\n",
            "Westshire\n",
            "East Salvadorton\n",
            "Port Eunaville\n",
            "Lake Henderson\n",
            "Angelineborough\n",
            "Lake Chadrickland\n",
            "Lake Daphnebury\n",
            "Erichview\n",
            "Lake Zita\n",
            "West Eduardohaven\n",
            "Traceyfort\n",
            "Creminville\n",
            "Kalefort\n",
            "Zanderberg\n",
            "West Soniaborough\n",
            "Port Tatyana\n",
            "South Ludie\n",
            "North Harmonyshire\n",
            "Dachside\n",
            "Kamrontown\n",
            "Gerlachton\n",
            "North Shaylee\n",
            "South Wyattberg\n",
            "North Godfreystad\n",
            "Hanehaven\n",
            "Port Pearl\n",
            "Russelborough\n",
            "Jaydebury\n"
          ],
          "name": "stdout"
        }
      ]
    },
    {
      "cell_type": "markdown",
      "metadata": {
        "id": "Aobxu-qzqm1N",
        "colab_type": "text"
      },
      "source": [
        "<a id=\"retrieving-prices\"></a>\n",
        "#### Retrieving the restaurant prices"
      ]
    },
    {
      "cell_type": "markdown",
      "metadata": {
        "id": "FC56tG8hqm1O",
        "colab_type": "text"
      },
      "source": [
        "Ok, we've figured out the restaurant name and location. Now we need to grab the price (number of dollar signs on a scale of one to four) for each restaurant. We'll follow the same process."
      ]
    },
    {
      "cell_type": "code",
      "metadata": {
        "scrolled": true,
        "id": "YJVQK_Rvqm1P",
        "colab_type": "code",
        "colab": {
          "base_uri": "https://localhost:8080/",
          "height": 1000
        },
        "outputId": "092174d3-b7b1-4e98-ac90-f14954728843"
      },
      "source": [
        "# print out all prices\n",
        "soup.find_all('div', {'class':'rest-row-pricing'})"
      ],
      "execution_count": 9,
      "outputs": [
        {
          "output_type": "execute_result",
          "data": {
            "text/plain": [
              "[<div class=\"rest-row-pricing\"> <i class=\"pricing--the-price\">  $    $      </i> <span class=\"pricing--not-the-price\">  $    $      </span></div>,\n",
              " <div class=\"rest-row-pricing\"> <i class=\"pricing--the-price\">  $    $    $    $  </i> <span class=\"pricing--not-the-price\"> </span></div>,\n",
              " <div class=\"rest-row-pricing\"> <i class=\"pricing--the-price\">  $    $    $    $  </i> <span class=\"pricing--not-the-price\"> </span></div>,\n",
              " <div class=\"rest-row-pricing\"> <i class=\"pricing--the-price\">  $    $    $    $  </i> <span class=\"pricing--not-the-price\"> </span></div>,\n",
              " <div class=\"rest-row-pricing\"> <i class=\"pricing--the-price\">  $    $      </i> <span class=\"pricing--not-the-price\">  $    $      </span></div>,\n",
              " <div class=\"rest-row-pricing\"> <i class=\"pricing--the-price\">  $    $      </i> <span class=\"pricing--not-the-price\">  $    $      </span></div>,\n",
              " <div class=\"rest-row-pricing\"> <i class=\"pricing--the-price\">  $    $    $    $  </i> <span class=\"pricing--not-the-price\"> </span></div>,\n",
              " <div class=\"rest-row-pricing\"> <i class=\"pricing--the-price\">  $    $    $    </i> <span class=\"pricing--not-the-price\">  $        </span></div>,\n",
              " <div class=\"rest-row-pricing\"> <i class=\"pricing--the-price\">  $    $      </i> <span class=\"pricing--not-the-price\">  $    $      </span></div>,\n",
              " <div class=\"rest-row-pricing\"> <i class=\"pricing--the-price\">  $    $    $    $  </i> <span class=\"pricing--not-the-price\"> </span></div>,\n",
              " <div class=\"rest-row-pricing\"> <i class=\"pricing--the-price\">  $    $    $    $  </i> <span class=\"pricing--not-the-price\"> </span></div>,\n",
              " <div class=\"rest-row-pricing\"> <i class=\"pricing--the-price\">  $    $    $    </i> <span class=\"pricing--not-the-price\">  $        </span></div>,\n",
              " <div class=\"rest-row-pricing\"> <i class=\"pricing--the-price\">  $    $    $    $  </i> <span class=\"pricing--not-the-price\"> </span></div>,\n",
              " <div class=\"rest-row-pricing\"> <i class=\"pricing--the-price\">  $    $      </i> <span class=\"pricing--not-the-price\">  $    $      </span></div>,\n",
              " <div class=\"rest-row-pricing\"> <i class=\"pricing--the-price\">  $    $    $    </i> <span class=\"pricing--not-the-price\">  $        </span></div>,\n",
              " <div class=\"rest-row-pricing\"> <i class=\"pricing--the-price\">  $    $      </i> <span class=\"pricing--not-the-price\">  $    $      </span></div>,\n",
              " <div class=\"rest-row-pricing\"> <i class=\"pricing--the-price\">  $    $    $    </i> <span class=\"pricing--not-the-price\">  $        </span></div>,\n",
              " <div class=\"rest-row-pricing\"> <i class=\"pricing--the-price\">  $    $      </i> <span class=\"pricing--not-the-price\">  $    $      </span></div>,\n",
              " <div class=\"rest-row-pricing\"> <i class=\"pricing--the-price\">  $    $      </i> <span class=\"pricing--not-the-price\">  $    $      </span></div>,\n",
              " <div class=\"rest-row-pricing\"> <i class=\"pricing--the-price\">  $    $    $    $  </i> <span class=\"pricing--not-the-price\"> </span></div>,\n",
              " <div class=\"rest-row-pricing\"> <i class=\"pricing--the-price\">  $    $    $    </i> <span class=\"pricing--not-the-price\">  $        </span></div>,\n",
              " <div class=\"rest-row-pricing\"> <i class=\"pricing--the-price\">  $    $    $    </i> <span class=\"pricing--not-the-price\">  $        </span></div>,\n",
              " <div class=\"rest-row-pricing\"> <i class=\"pricing--the-price\">  $    $      </i> <span class=\"pricing--not-the-price\">  $    $      </span></div>,\n",
              " <div class=\"rest-row-pricing\"> <i class=\"pricing--the-price\">  $    $      </i> <span class=\"pricing--not-the-price\">  $    $      </span></div>,\n",
              " <div class=\"rest-row-pricing\"> <i class=\"pricing--the-price\">  $    $    $    $  </i> <span class=\"pricing--not-the-price\"> </span></div>,\n",
              " <div class=\"rest-row-pricing\"> <i class=\"pricing--the-price\">  $    $    $    $  </i> <span class=\"pricing--not-the-price\"> </span></div>,\n",
              " <div class=\"rest-row-pricing\"> <i class=\"pricing--the-price\">  $    $    $    $  </i> <span class=\"pricing--not-the-price\"> </span></div>,\n",
              " <div class=\"rest-row-pricing\"> <i class=\"pricing--the-price\">  $    $      </i> <span class=\"pricing--not-the-price\">  $    $      </span></div>,\n",
              " <div class=\"rest-row-pricing\"> <i class=\"pricing--the-price\">  $    $      </i> <span class=\"pricing--not-the-price\">  $    $      </span></div>,\n",
              " <div class=\"rest-row-pricing\"> <i class=\"pricing--the-price\">  $    $    $    </i> <span class=\"pricing--not-the-price\">  $        </span></div>,\n",
              " <div class=\"rest-row-pricing\"> <i class=\"pricing--the-price\">  $    $    $    $  </i> <span class=\"pricing--not-the-price\"> </span></div>,\n",
              " <div class=\"rest-row-pricing\"> <i class=\"pricing--the-price\">  $    $    $    $  </i> <span class=\"pricing--not-the-price\"> </span></div>,\n",
              " <div class=\"rest-row-pricing\"> <i class=\"pricing--the-price\">  $    $    $    $  </i> <span class=\"pricing--not-the-price\"> </span></div>,\n",
              " <div class=\"rest-row-pricing\"> <i class=\"pricing--the-price\">  $    $      </i> <span class=\"pricing--not-the-price\">  $    $      </span></div>,\n",
              " <div class=\"rest-row-pricing\"> <i class=\"pricing--the-price\">  $    $    $    </i> <span class=\"pricing--not-the-price\">  $        </span></div>,\n",
              " <div class=\"rest-row-pricing\"> <i class=\"pricing--the-price\">  $    $    $    $  </i> <span class=\"pricing--not-the-price\"> </span></div>,\n",
              " <div class=\"rest-row-pricing\"> <i class=\"pricing--the-price\">  $    $      </i> <span class=\"pricing--not-the-price\">  $    $      </span></div>,\n",
              " <div class=\"rest-row-pricing\"> <i class=\"pricing--the-price\">  $    $    $    $  </i> <span class=\"pricing--not-the-price\"> </span></div>,\n",
              " <div class=\"rest-row-pricing\"> <i class=\"pricing--the-price\">  $    $    $    </i> <span class=\"pricing--not-the-price\">  $        </span></div>,\n",
              " <div class=\"rest-row-pricing\"> <i class=\"pricing--the-price\">  $    $    $    </i> <span class=\"pricing--not-the-price\">  $        </span></div>,\n",
              " <div class=\"rest-row-pricing\"> <i class=\"pricing--the-price\">  $    $    $    $  </i> <span class=\"pricing--not-the-price\"> </span></div>,\n",
              " <div class=\"rest-row-pricing\"> <i class=\"pricing--the-price\">  $    $    $    $  </i> <span class=\"pricing--not-the-price\"> </span></div>,\n",
              " <div class=\"rest-row-pricing\"> <i class=\"pricing--the-price\">  $    $    $    </i> <span class=\"pricing--not-the-price\">  $        </span></div>,\n",
              " <div class=\"rest-row-pricing\"> <i class=\"pricing--the-price\">  $    $    $    </i> <span class=\"pricing--not-the-price\">  $        </span></div>,\n",
              " <div class=\"rest-row-pricing\"> <i class=\"pricing--the-price\">  $    $      </i> <span class=\"pricing--not-the-price\">  $    $      </span></div>,\n",
              " <div class=\"rest-row-pricing\"> <i class=\"pricing--the-price\">  $    $    $    </i> <span class=\"pricing--not-the-price\">  $        </span></div>,\n",
              " <div class=\"rest-row-pricing\"> <i class=\"pricing--the-price\">  $    $    $    </i> <span class=\"pricing--not-the-price\">  $        </span></div>,\n",
              " <div class=\"rest-row-pricing\"> <i class=\"pricing--the-price\">  $    $      </i> <span class=\"pricing--not-the-price\">  $    $      </span></div>,\n",
              " <div class=\"rest-row-pricing\"> <i class=\"pricing--the-price\">  $    $      </i> <span class=\"pricing--not-the-price\">  $    $      </span></div>,\n",
              " <div class=\"rest-row-pricing\"> <i class=\"pricing--the-price\">  $    $      </i> <span class=\"pricing--not-the-price\">  $    $      </span></div>,\n",
              " <div class=\"rest-row-pricing\"> <i class=\"pricing--the-price\">  $    $    $    </i> <span class=\"pricing--not-the-price\">  $        </span></div>,\n",
              " <div class=\"rest-row-pricing\"> <i class=\"pricing--the-price\">  $    $    $    $  </i> <span class=\"pricing--not-the-price\"> </span></div>,\n",
              " <div class=\"rest-row-pricing\"> <i class=\"pricing--the-price\">  $    $      </i> <span class=\"pricing--not-the-price\">  $    $      </span></div>,\n",
              " <div class=\"rest-row-pricing\"> <i class=\"pricing--the-price\">  $    $      </i> <span class=\"pricing--not-the-price\">  $    $      </span></div>,\n",
              " <div class=\"rest-row-pricing\"> <i class=\"pricing--the-price\">  $    $    $    $  </i> <span class=\"pricing--not-the-price\"> </span></div>,\n",
              " <div class=\"rest-row-pricing\"> <i class=\"pricing--the-price\">  $    $    $    </i> <span class=\"pricing--not-the-price\">  $        </span></div>,\n",
              " <div class=\"rest-row-pricing\"> <i class=\"pricing--the-price\">  $    $    $    $  </i> <span class=\"pricing--not-the-price\"> </span></div>,\n",
              " <div class=\"rest-row-pricing\"> <i class=\"pricing--the-price\">  $    $    $    </i> <span class=\"pricing--not-the-price\">  $        </span></div>,\n",
              " <div class=\"rest-row-pricing\"> <i class=\"pricing--the-price\">  $    $      </i> <span class=\"pricing--not-the-price\">  $    $      </span></div>,\n",
              " <div class=\"rest-row-pricing\"> <i class=\"pricing--the-price\">  $    $    $    $  </i> <span class=\"pricing--not-the-price\"> </span></div>,\n",
              " <div class=\"rest-row-pricing\"> <i class=\"pricing--the-price\">  $    $      </i> <span class=\"pricing--not-the-price\">  $    $      </span></div>,\n",
              " <div class=\"rest-row-pricing\"> <i class=\"pricing--the-price\">  $    $      </i> <span class=\"pricing--not-the-price\">  $    $      </span></div>,\n",
              " <div class=\"rest-row-pricing\"> <i class=\"pricing--the-price\">  $    $    $    $  </i> <span class=\"pricing--not-the-price\"> </span></div>,\n",
              " <div class=\"rest-row-pricing\"> <i class=\"pricing--the-price\">  $    $    $    $  </i> <span class=\"pricing--not-the-price\"> </span></div>,\n",
              " <div class=\"rest-row-pricing\"> <i class=\"pricing--the-price\">  $    $    $    </i> <span class=\"pricing--not-the-price\">  $        </span></div>,\n",
              " <div class=\"rest-row-pricing\"> <i class=\"pricing--the-price\">  $    $    $    $  </i> <span class=\"pricing--not-the-price\"> </span></div>,\n",
              " <div class=\"rest-row-pricing\"> <i class=\"pricing--the-price\">  $    $      </i> <span class=\"pricing--not-the-price\">  $    $      </span></div>,\n",
              " <div class=\"rest-row-pricing\"> <i class=\"pricing--the-price\">  $    $      </i> <span class=\"pricing--not-the-price\">  $    $      </span></div>,\n",
              " <div class=\"rest-row-pricing\"> <i class=\"pricing--the-price\">  $    $    $    </i> <span class=\"pricing--not-the-price\">  $        </span></div>,\n",
              " <div class=\"rest-row-pricing\"> <i class=\"pricing--the-price\">  $    $      </i> <span class=\"pricing--not-the-price\">  $    $      </span></div>,\n",
              " <div class=\"rest-row-pricing\"> <i class=\"pricing--the-price\">  $    $      </i> <span class=\"pricing--not-the-price\">  $    $      </span></div>,\n",
              " <div class=\"rest-row-pricing\"> <i class=\"pricing--the-price\">  $    $    $    $  </i> <span class=\"pricing--not-the-price\"> </span></div>,\n",
              " <div class=\"rest-row-pricing\"> <i class=\"pricing--the-price\">  $    $    $    $  </i> <span class=\"pricing--not-the-price\"> </span></div>,\n",
              " <div class=\"rest-row-pricing\"> <i class=\"pricing--the-price\">  $    $      </i> <span class=\"pricing--not-the-price\">  $    $      </span></div>,\n",
              " <div class=\"rest-row-pricing\"> <i class=\"pricing--the-price\">  $    $    $    $  </i> <span class=\"pricing--not-the-price\"> </span></div>,\n",
              " <div class=\"rest-row-pricing\"> <i class=\"pricing--the-price\">  $    $    $    </i> <span class=\"pricing--not-the-price\">  $        </span></div>,\n",
              " <div class=\"rest-row-pricing\"> <i class=\"pricing--the-price\">  $    $    $    $  </i> <span class=\"pricing--not-the-price\"> </span></div>,\n",
              " <div class=\"rest-row-pricing\"> <i class=\"pricing--the-price\">  $    $    $    </i> <span class=\"pricing--not-the-price\">  $        </span></div>,\n",
              " <div class=\"rest-row-pricing\"> <i class=\"pricing--the-price\">  $    $    $    </i> <span class=\"pricing--not-the-price\">  $        </span></div>,\n",
              " <div class=\"rest-row-pricing\"> <i class=\"pricing--the-price\">  $    $    $    </i> <span class=\"pricing--not-the-price\">  $        </span></div>,\n",
              " <div class=\"rest-row-pricing\"> <i class=\"pricing--the-price\">  $    $    $    </i> <span class=\"pricing--not-the-price\">  $        </span></div>,\n",
              " <div class=\"rest-row-pricing\"> <i class=\"pricing--the-price\">  $    $    $    </i> <span class=\"pricing--not-the-price\">  $        </span></div>,\n",
              " <div class=\"rest-row-pricing\"> <i class=\"pricing--the-price\">  $    $    $    </i> <span class=\"pricing--not-the-price\">  $        </span></div>,\n",
              " <div class=\"rest-row-pricing\"> <i class=\"pricing--the-price\">  $    $      </i> <span class=\"pricing--not-the-price\">  $    $      </span></div>,\n",
              " <div class=\"rest-row-pricing\"> <i class=\"pricing--the-price\">  $    $    $    </i> <span class=\"pricing--not-the-price\">  $        </span></div>,\n",
              " <div class=\"rest-row-pricing\"> <i class=\"pricing--the-price\">  $    $    $    $  </i> <span class=\"pricing--not-the-price\"> </span></div>,\n",
              " <div class=\"rest-row-pricing\"> <i class=\"pricing--the-price\">  $    $    $    </i> <span class=\"pricing--not-the-price\">  $        </span></div>,\n",
              " <div class=\"rest-row-pricing\"> <i class=\"pricing--the-price\">  $    $    $    </i> <span class=\"pricing--not-the-price\">  $        </span></div>,\n",
              " <div class=\"rest-row-pricing\"> <i class=\"pricing--the-price\">  $    $      </i> <span class=\"pricing--not-the-price\">  $    $      </span></div>,\n",
              " <div class=\"rest-row-pricing\"> <i class=\"pricing--the-price\">  $    $    $    $  </i> <span class=\"pricing--not-the-price\"> </span></div>,\n",
              " <div class=\"rest-row-pricing\"> <i class=\"pricing--the-price\">  $    $    $    $  </i> <span class=\"pricing--not-the-price\"> </span></div>,\n",
              " <div class=\"rest-row-pricing\"> <i class=\"pricing--the-price\">  $    $      </i> <span class=\"pricing--not-the-price\">  $    $      </span></div>,\n",
              " <div class=\"rest-row-pricing\"> <i class=\"pricing--the-price\">  $    $      </i> <span class=\"pricing--not-the-price\">  $    $      </span></div>,\n",
              " <div class=\"rest-row-pricing\"> <i class=\"pricing--the-price\">  $    $      </i> <span class=\"pricing--not-the-price\">  $    $      </span></div>,\n",
              " <div class=\"rest-row-pricing\"> <i class=\"pricing--the-price\">  $    $      </i> <span class=\"pricing--not-the-price\">  $    $      </span></div>,\n",
              " <div class=\"rest-row-pricing\"> <i class=\"pricing--the-price\">  $    $      </i> <span class=\"pricing--not-the-price\">  $    $      </span></div>,\n",
              " <div class=\"rest-row-pricing\"> <i class=\"pricing--the-price\">  $    $    $    </i> <span class=\"pricing--not-the-price\">  $        </span></div>,\n",
              " <div class=\"rest-row-pricing\"> <i class=\"pricing--the-price\">  $    $    $    $  </i> <span class=\"pricing--not-the-price\"> </span></div>,\n",
              " <div class=\"rest-row-pricing\"> <i class=\"pricing--the-price\">  $    $    $    $  </i> <span class=\"pricing--not-the-price\"> </span></div>,\n",
              " <div class=\"rest-row-pricing\"> <i class=\"pricing--the-price\">  $    $    $    $  </i> <span class=\"pricing--not-the-price\"> </span></div>]"
            ]
          },
          "metadata": {
            "tags": []
          },
          "execution_count": 9
        }
      ]
    },
    {
      "cell_type": "code",
      "metadata": {
        "id": "JsLXai5bqm1S",
        "colab_type": "code",
        "colab": {},
        "outputId": "6aee7839-4bc5-4787-bff3-84593f56bdf1"
      },
      "source": [
        "# print out EACH number of dollar signs per restaurant\n",
        "# this one is trickier to eliminate the html. Hint: try a nested find\n",
        "for entry in soup.find_all('div', {'class':'rest-row-pricing'}):\n",
        "    print(entry.find('i').text)"
      ],
      "execution_count": 0,
      "outputs": [
        {
          "output_type": "stream",
          "text": [
            "  $    $    $    $  \n",
            "  $    $    $    \n",
            "  $    $    $    $  \n",
            "  $    $      \n",
            "  $    $    $    \n",
            "  $    $    $    $  \n",
            "  $    $    $    \n",
            "  $    $    $    $  \n",
            "  $    $      \n",
            "  $    $      \n",
            "  $    $    $    $  \n",
            "  $    $    $    $  \n",
            "  $    $    $    $  \n",
            "  $    $      \n",
            "  $    $    $    $  \n",
            "  $    $      \n",
            "  $    $    $    \n",
            "  $    $      \n",
            "  $    $    $    $  \n",
            "  $    $    $    $  \n",
            "  $    $    $    \n",
            "  $    $      \n",
            "  $    $    $    \n",
            "  $    $    $    $  \n",
            "  $    $    $    \n",
            "  $    $    $    \n",
            "  $    $    $    \n",
            "  $    $    $    \n",
            "  $    $    $    \n",
            "  $    $    $    $  \n",
            "  $    $    $    $  \n",
            "  $    $    $    $  \n",
            "  $    $      \n",
            "  $    $      \n",
            "  $    $    $    $  \n",
            "  $    $      \n",
            "  $    $    $    $  \n",
            "  $    $    $    $  \n",
            "  $    $    $    \n",
            "  $    $      \n",
            "  $    $    $    \n",
            "  $    $    $    $  \n",
            "  $    $    $    $  \n",
            "  $    $    $    $  \n",
            "  $    $      \n",
            "  $    $      \n",
            "  $    $      \n",
            "  $    $    $    \n",
            "  $    $      \n",
            "  $    $      \n",
            "  $    $      \n",
            "  $    $      \n",
            "  $    $    $    \n",
            "  $    $      \n",
            "  $    $    $    $  \n",
            "  $    $    $    \n",
            "  $    $      \n",
            "  $    $      \n",
            "  $    $    $    $  \n",
            "  $    $      \n",
            "  $    $      \n",
            "  $    $    $    \n",
            "  $    $    $    \n",
            "  $    $      \n",
            "  $    $    $    \n",
            "  $    $    $    \n",
            "  $    $      \n",
            "  $    $    $    \n",
            "  $    $      \n",
            "  $    $    $    \n",
            "  $    $    $    \n",
            "  $    $    $    $  \n",
            "  $    $    $    \n",
            "  $    $      \n",
            "  $    $      \n",
            "  $    $      \n",
            "  $    $      \n",
            "  $    $      \n",
            "  $    $      \n",
            "  $    $      \n",
            "  $    $      \n",
            "  $    $    $    \n",
            "  $    $    $    $  \n",
            "  $    $    $    $  \n",
            "  $    $    $    $  \n",
            "  $    $    $    $  \n",
            "  $    $      \n",
            "  $    $    $    \n",
            "  $    $      \n",
            "  $    $    $    \n",
            "  $    $    $    \n",
            "  $    $    $    $  \n",
            "  $    $      \n",
            "  $    $    $    \n",
            "  $    $    $    $  \n",
            "  $    $      \n",
            "  $    $    $    $  \n",
            "  $    $      \n",
            "  $    $      \n",
            "  $    $    $    $  \n"
          ],
          "name": "stdout"
        }
      ]
    },
    {
      "cell_type": "markdown",
      "metadata": {
        "id": "nspwcCczqm1W",
        "colab_type": "text"
      },
      "source": [
        "That looks great, but what if I wanted just the number of dollar signs per restaurant? Can you figure out a way to simply print out the number of dollar signs per restaurant listed?"
      ]
    },
    {
      "cell_type": "code",
      "metadata": {
        "id": "-9qGOYouqm1Y",
        "colab_type": "code",
        "colab": {},
        "outputId": "11e48ecf-7e2c-442f-d6ad-c9476ec4a201"
      },
      "source": [
        "# print the number of dollars signs per restaurant\n",
        "for entry in soup.find_all('div', {'class':'rest-row-pricing'}):\n",
        "    price = entry.find('i').text\n",
        "    print(price.count('$'))"
      ],
      "execution_count": 0,
      "outputs": [
        {
          "output_type": "stream",
          "text": [
            "4\n",
            "3\n",
            "4\n",
            "2\n",
            "3\n",
            "4\n",
            "3\n",
            "4\n",
            "2\n",
            "2\n",
            "4\n",
            "4\n",
            "4\n",
            "2\n",
            "4\n",
            "2\n",
            "3\n",
            "2\n",
            "4\n",
            "4\n",
            "3\n",
            "2\n",
            "3\n",
            "4\n",
            "3\n",
            "3\n",
            "3\n",
            "3\n",
            "3\n",
            "4\n",
            "4\n",
            "4\n",
            "2\n",
            "2\n",
            "4\n",
            "2\n",
            "4\n",
            "4\n",
            "3\n",
            "2\n",
            "3\n",
            "4\n",
            "4\n",
            "4\n",
            "2\n",
            "2\n",
            "2\n",
            "3\n",
            "2\n",
            "2\n",
            "2\n",
            "2\n",
            "3\n",
            "2\n",
            "4\n",
            "3\n",
            "2\n",
            "2\n",
            "4\n",
            "2\n",
            "2\n",
            "3\n",
            "3\n",
            "2\n",
            "3\n",
            "3\n",
            "2\n",
            "3\n",
            "2\n",
            "3\n",
            "3\n",
            "4\n",
            "3\n",
            "2\n",
            "2\n",
            "2\n",
            "2\n",
            "2\n",
            "2\n",
            "2\n",
            "2\n",
            "3\n",
            "4\n",
            "4\n",
            "4\n",
            "4\n",
            "2\n",
            "3\n",
            "2\n",
            "3\n",
            "3\n",
            "4\n",
            "2\n",
            "3\n",
            "4\n",
            "2\n",
            "4\n",
            "2\n",
            "2\n",
            "4\n"
          ],
          "name": "stdout"
        }
      ]
    },
    {
      "cell_type": "markdown",
      "metadata": {
        "id": "z2UaO5N_qm1d",
        "colab_type": "text"
      },
      "source": [
        "Phew, nice work. \n",
        "\n",
        "<a id=\"retrieving-bookings\"></a>\n",
        "#### Retrieving the restaurant number of bookings\n",
        "\n",
        "One more, right? We only need to find the number times a restaurant was booked. In the next cell, print out all objects that contain the number of times the restaurant was booked."
      ]
    },
    {
      "cell_type": "code",
      "metadata": {
        "id": "WEpcwsMwqm1e",
        "colab_type": "code",
        "colab": {},
        "outputId": "86af297f-d108-44e3-8682-84cfcc302375"
      },
      "source": [
        "# print out all objects that contain the number of times the restaurant was booked\n",
        "soup.find_all('div', {'class':'booking'})"
      ],
      "execution_count": 0,
      "outputs": [
        {
          "output_type": "execute_result",
          "data": {
            "text/plain": [
              "[]"
            ]
          },
          "metadata": {
            "tags": []
          },
          "execution_count": 24
        }
      ]
    },
    {
      "cell_type": "markdown",
      "metadata": {
        "id": "9V8GFDbLqm1m",
        "colab_type": "text"
      },
      "source": [
        "That's weird -- an empty set. Did we find the wrong element? What's going on here? Discuss.\n",
        "\n",
        "How can we debug this? Any ideas?"
      ]
    },
    {
      "cell_type": "code",
      "metadata": {
        "collapsed": true,
        "id": "F3OlvUnTqm1o",
        "colab_type": "code",
        "colab": {}
      },
      "source": [
        "# let's first try printing out all 'div' objects\n",
        "#  NOTE: This is a too many objects to store in this notebook!\n",
        "#        So, uncomment the code below to run it.\n",
        "\n",
        "# for entry in soup.find_all('div'):\n",
        "#     print entry"
      ],
      "execution_count": 0,
      "outputs": []
    },
    {
      "cell_type": "markdown",
      "metadata": {
        "id": "8tqzZTksqm1r",
        "colab_type": "text"
      },
      "source": [
        "I still don't see it. Let's search our entire soup object:"
      ]
    },
    {
      "cell_type": "code",
      "metadata": {
        "collapsed": true,
        "id": "HimYHwwKqm1s",
        "colab_type": "code",
        "colab": {}
      },
      "source": [
        "# print out soup, do command+f for \"booked \". \n",
        "#   Uncomment the below to run.\n",
        "\n",
        "# soup"
      ],
      "execution_count": 0,
      "outputs": []
    },
    {
      "cell_type": "markdown",
      "metadata": {
        "id": "4Tm_9BfQqm1v",
        "colab_type": "text"
      },
      "source": [
        "What do you notice? Why is this happening?"
      ]
    },
    {
      "cell_type": "markdown",
      "metadata": {
        "id": "l6XCiOSlqm1w",
        "colab_type": "text"
      },
      "source": [
        "<a id=\"selenium\"></a>\n",
        "## Introducing Selenium\n",
        "\n",
        "Selenium is a headless browser. It allows us to render JavaScript just as a human-navigated browser would.\n",
        "\n",
        "To install Selenium, use one of the following:\n",
        "- **Anaconda:** `conda install -c conda-forge selenium`\n",
        "- **pip:** `pip install selenium`\n",
        "\n",
        "You will also need GeckoDriver (this assumes you are using Homebrew for Mac): \n",
        "\n",
        "- ```brew install geckodriver```\n",
        "\n",
        "Additionally, you will need to have downloaded the [Firefox browser](https://www.mozilla.org/en-US/firefox/new/?utm_source=google&utm_medium=cpc&utm_campaign=Firefox-Brand-US-GGL-Exact&utm_term=firefox&utm_content=A144_A203_A006336&gclid=Cj0KEQjwnPLKBRC-j7nt1b7OlZwBEiQAv8lMLJUyReT6cPzSYdmEA6uD3YDoieuuuusddgAU7XH6smEaAoje8P8HAQ&gclsrc=aw.ds) for the application in this lesson."
      ]
    },
    {
      "cell_type": "code",
      "metadata": {
        "id": "Qsak5bb_qm1x",
        "colab_type": "code",
        "colab": {}
      },
      "source": [
        "# import\n",
        "from selenium import webdriver"
      ],
      "execution_count": 0,
      "outputs": []
    },
    {
      "cell_type": "markdown",
      "metadata": {
        "id": "jj-NYXdjqm11",
        "colab_type": "text"
      },
      "source": [
        "Selenium requires us to determine a default browser to run. I'm going to opt for Firefox, but Chromium is also a very common choice. http://selenium-python.readthedocs.io/faq.html"
      ]
    },
    {
      "cell_type": "code",
      "metadata": {
        "id": "TE10vrzhqm12",
        "colab_type": "code",
        "colab": {}
      },
      "source": [
        "# STOP\n",
        "# what is going to happen when I run the next cell?"
      ],
      "execution_count": 0,
      "outputs": []
    },
    {
      "cell_type": "code",
      "metadata": {
        "id": "j73gPoFhqm17",
        "colab_type": "code",
        "colab": {}
      },
      "source": [
        "# create a driver called Firefox\n",
        "driver = webdriver.Firefox()"
      ],
      "execution_count": 0,
      "outputs": []
    },
    {
      "cell_type": "markdown",
      "metadata": {
        "id": "PTt3LEmUqm1-",
        "colab_type": "text"
      },
      "source": [
        "Pretty crazy, right? Let's close that driver."
      ]
    },
    {
      "cell_type": "code",
      "metadata": {
        "id": "tM1bLc-nqm1_",
        "colab_type": "code",
        "colab": {}
      },
      "source": [
        "# close it\n",
        "driver.close()"
      ],
      "execution_count": 0,
      "outputs": []
    },
    {
      "cell_type": "code",
      "metadata": {
        "id": "3GXgP6vzqm2E",
        "colab_type": "code",
        "colab": {}
      },
      "source": [
        "# let's boot it up, and visit a URL of our choice\n",
        "driver = webdriver.Firefox()\n",
        "driver.get(\"http://www.python.org\")"
      ],
      "execution_count": 0,
      "outputs": []
    },
    {
      "cell_type": "markdown",
      "metadata": {
        "id": "XeD5UFU3qm2H",
        "colab_type": "text"
      },
      "source": [
        "Awesome. Now we're getting somewhere: programmatically controlling our browser like a human."
      ]
    },
    {
      "cell_type": "markdown",
      "metadata": {
        "id": "cNMLleN1qm2I",
        "colab_type": "text"
      },
      "source": [
        "Let's return to our problem at hand. We need to visit the OpenTable listing for DC. Once there, we need to get the html to load. In the next cell, prove you can programmatically visit the page."
      ]
    },
    {
      "cell_type": "code",
      "metadata": {
        "id": "KcFlA9Lwqm2J",
        "colab_type": "code",
        "colab": {}
      },
      "source": [
        "# visit our OpenTable page\n",
        "driver = webdriver.Firefox()\n",
        "driver.get(\"http://www.opentable.com/washington-dc-restaurant-listings\")\n",
        "\n",
        "# always good to check we've got the page we think we do\n",
        "assert \"OpenTable\" in driver.title"
      ],
      "execution_count": 0,
      "outputs": []
    },
    {
      "cell_type": "code",
      "metadata": {
        "id": "aPWuDOauqm2N",
        "colab_type": "code",
        "colab": {},
        "outputId": "92485fb8-a1a5-4454-de24-8b6fe9e7b58d"
      },
      "source": [
        "driver.title"
      ],
      "execution_count": 0,
      "outputs": [
        {
          "output_type": "execute_result",
          "data": {
            "text/plain": [
              "u'Washington, D.C. Area Restaurants List | OpenTable'"
            ]
          },
          "metadata": {
            "tags": []
          },
          "execution_count": 42
        }
      ]
    },
    {
      "cell_type": "code",
      "metadata": {
        "id": "wV8QeoHeqm2S",
        "colab_type": "code",
        "colab": {}
      },
      "source": [
        "driver.close()"
      ],
      "execution_count": 0,
      "outputs": []
    },
    {
      "cell_type": "markdown",
      "metadata": {
        "id": "BnFQ8TzVqm2V",
        "colab_type": "text"
      },
      "source": [
        "<a id=\"selenium-js\"></a>\n",
        "### Running JavaScript before scraping\n",
        "\n",
        "Now, to resolve our JavaScript problem, there's a few things we can do. What I'll do in this case is request that the page load, wait one second, and then I'm going to grab the source html from the page. Because the page should believe I'm visiting from a live connection on a browser client, the JavaScript should render to be a part of the page source. I can then grab the page source."
      ]
    },
    {
      "cell_type": "code",
      "metadata": {
        "collapsed": true,
        "id": "yl2BRbJkqm2W",
        "colab_type": "code",
        "colab": {}
      },
      "source": [
        "# import sleep\n",
        "from time import sleep"
      ],
      "execution_count": 0,
      "outputs": []
    },
    {
      "cell_type": "code",
      "metadata": {
        "id": "ODCfhQSzqm2b",
        "colab_type": "code",
        "colab": {}
      },
      "source": [
        "# visit our relevant page\n",
        "driver = webdriver.Firefox()\n",
        "driver.get(\"http://www.opentable.com/washington-dc-restaurant-listings\")\n",
        "\n",
        "# wait one second\n",
        "sleep(1)\n",
        "\n",
        "#grab the page source\n",
        "html = driver.page_source"
      ],
      "execution_count": 0,
      "outputs": []
    },
    {
      "cell_type": "markdown",
      "metadata": {
        "id": "f1FhqyiBqm2e",
        "colab_type": "text"
      },
      "source": [
        "**Pop Quiz:** What do we need to do with this HTML?"
      ]
    },
    {
      "cell_type": "code",
      "metadata": {
        "collapsed": true,
        "id": "Ft5A2tZiqm2g",
        "colab_type": "code",
        "colab": {}
      },
      "source": [
        "# BeautifulSoup it!\n",
        "html = BeautifulSoup(html, \"lxml\")"
      ],
      "execution_count": 0,
      "outputs": []
    },
    {
      "cell_type": "markdown",
      "metadata": {
        "id": "a_Ilr74hqm2j",
        "colab_type": "text"
      },
      "source": [
        "Now, let's return to our earlier problem: How do we locate bookings on the page?"
      ]
    },
    {
      "cell_type": "code",
      "metadata": {
        "id": "oUCuB3FMqm2l",
        "colab_type": "code",
        "colab": {},
        "outputId": "9d341885-7af4-42c3-db63-a11918373e30"
      },
      "source": [
        "# print out the number bookings for all restaurants\n",
        "html.find_all('div', {'class':'booking'})"
      ],
      "execution_count": 0,
      "outputs": [
        {
          "output_type": "execute_result",
          "data": {
            "text/plain": [
              "[<div class=\"booking\"><span class=\"tadpole\"></span>Booked 423 times today</div>,\n",
              " <div class=\"booking\"><span class=\"tadpole\"></span>Booked 259 times today</div>,\n",
              " <div class=\"booking\"><span class=\"tadpole\"></span>Booked 208 times today</div>,\n",
              " <div class=\"booking\"><span class=\"tadpole\"></span>Booked 247 times today</div>,\n",
              " <div class=\"booking\"><span class=\"tadpole\"></span>Booked 101 times today</div>,\n",
              " <div class=\"booking\"><span class=\"tadpole\"></span>Booked 73 times today</div>,\n",
              " <div class=\"booking\"><span class=\"tadpole\"></span>Booked 80 times today</div>,\n",
              " <div class=\"booking\"><span class=\"tadpole\"></span>Booked 112 times today</div>,\n",
              " <div class=\"booking\"><span class=\"tadpole\"></span>Booked 43 times today</div>,\n",
              " <div class=\"booking\"><span class=\"tadpole\"></span>Booked 31 times today</div>,\n",
              " <div class=\"booking\"><span class=\"tadpole\"></span>Booked 49 times today</div>,\n",
              " <div class=\"booking\"><span class=\"tadpole\"></span>Booked 43 times today</div>,\n",
              " <div class=\"booking\"><span class=\"tadpole\"></span>Booked 42 times today</div>,\n",
              " <div class=\"booking\"><span class=\"tadpole\"></span>Booked 59 times today</div>,\n",
              " <div class=\"booking\"><span class=\"tadpole\"></span>Booked 26 times today</div>,\n",
              " <div class=\"booking\"><span class=\"tadpole\"></span>Booked 67 times today</div>,\n",
              " <div class=\"booking\"><span class=\"tadpole\"></span>Booked 52 times today</div>,\n",
              " <div class=\"booking\"><span class=\"tadpole\"></span>Booked 55 times today</div>,\n",
              " <div class=\"booking\"><span class=\"tadpole\"></span>Booked 62 times today</div>,\n",
              " <div class=\"booking\"><span class=\"tadpole\"></span>Booked 47 times today</div>,\n",
              " <div class=\"booking\"><span class=\"tadpole\"></span>Booked 60 times today</div>,\n",
              " <div class=\"booking\"><span class=\"tadpole\"></span>Booked 50 times today</div>,\n",
              " <div class=\"booking\"><span class=\"tadpole\"></span>Booked 47 times today</div>,\n",
              " <div class=\"booking\"><span class=\"tadpole\"></span>Booked 42 times today</div>,\n",
              " <div class=\"booking\"><span class=\"tadpole\"></span>Booked 32 times today</div>,\n",
              " <div class=\"booking\"><span class=\"tadpole\"></span>Booked 34 times today</div>,\n",
              " <div class=\"booking\"><span class=\"tadpole\"></span>Booked 46 times today</div>,\n",
              " <div class=\"booking\"><span class=\"tadpole\"></span>Booked 52 times today</div>,\n",
              " <div class=\"booking\"><span class=\"tadpole\"></span>Booked 11 times today</div>,\n",
              " <div class=\"booking\"><span class=\"tadpole\"></span>Booked 12 times today</div>,\n",
              " <div class=\"booking\"><span class=\"tadpole\"></span>Booked 20 times today</div>,\n",
              " <div class=\"booking\"><span class=\"tadpole\"></span>Booked 15 times today</div>,\n",
              " <div class=\"booking\"><span class=\"tadpole\"></span>Booked 26 times today</div>,\n",
              " <div class=\"booking\"><span class=\"tadpole\"></span>Booked 19 times today</div>,\n",
              " <div class=\"booking\"><span class=\"tadpole\"></span>Booked 28 times today</div>,\n",
              " <div class=\"booking\"><span class=\"tadpole\"></span>Booked 40 times today</div>,\n",
              " <div class=\"booking\"><span class=\"tadpole\"></span>Booked 11 times today</div>,\n",
              " <div class=\"booking\"><span class=\"tadpole\"></span>Booked 49 times today</div>,\n",
              " <div class=\"booking\"><span class=\"tadpole\"></span>Booked 21 times today</div>,\n",
              " <div class=\"booking\"><span class=\"tadpole\"></span>Booked 26 times today</div>,\n",
              " <div class=\"booking\"><span class=\"tadpole\"></span>Booked 27 times today</div>,\n",
              " <div class=\"booking\"><span class=\"tadpole\"></span>Booked 13 times today</div>,\n",
              " <div class=\"booking\"><span class=\"tadpole\"></span>Booked 28 times today</div>,\n",
              " <div class=\"booking\"><span class=\"tadpole\"></span>Booked 40 times today</div>,\n",
              " <div class=\"booking\"><span class=\"tadpole\"></span>Booked 38 times today</div>,\n",
              " <div class=\"booking\"><span class=\"tadpole\"></span>Booked 27 times today</div>,\n",
              " <div class=\"booking\"><span class=\"tadpole\"></span>Booked 14 times today</div>,\n",
              " <div class=\"booking\"><span class=\"tadpole\"></span>Booked 16 times today</div>,\n",
              " <div class=\"booking\"><span class=\"tadpole\"></span>Booked 18 times today</div>,\n",
              " <div class=\"booking\"><span class=\"tadpole\"></span>Booked 15 times today</div>,\n",
              " <div class=\"booking\"><span class=\"tadpole\"></span>Booked 52 times today</div>,\n",
              " <div class=\"booking\"><span class=\"tadpole\"></span>Booked 49 times today</div>,\n",
              " <div class=\"booking\"><span class=\"tadpole\"></span>Booked 54 times today</div>,\n",
              " <div class=\"booking\"><span class=\"tadpole\"></span>Booked 13 times today</div>,\n",
              " <div class=\"booking\"><span class=\"tadpole\"></span>Booked 26 times today</div>,\n",
              " <div class=\"booking\"><span class=\"tadpole\"></span>Booked 1 times today</div>,\n",
              " <div class=\"booking\"><span class=\"tadpole\"></span>Booked 12 times today</div>,\n",
              " <div class=\"booking\"><span class=\"tadpole\"></span>Booked 35 times today</div>,\n",
              " <div class=\"booking\"><span class=\"tadpole\"></span>Booked 19 times today</div>,\n",
              " <div class=\"booking\"><span class=\"tadpole\"></span>Booked 24 times today</div>,\n",
              " <div class=\"booking\"><span class=\"tadpole\"></span>Booked 43 times today</div>,\n",
              " <div class=\"booking\"><span class=\"tadpole\"></span>Booked 13 times today</div>,\n",
              " <div class=\"booking\"><span class=\"tadpole\"></span>Booked 14 times today</div>,\n",
              " <div class=\"booking\"><span class=\"tadpole\"></span>Booked 23 times today</div>,\n",
              " <div class=\"booking\"><span class=\"tadpole\"></span>Booked 50 times today</div>,\n",
              " <div class=\"booking\"><span class=\"tadpole\"></span>Booked 19 times today</div>,\n",
              " <div class=\"booking\"><span class=\"tadpole\"></span>Booked 20 times today</div>,\n",
              " <div class=\"booking\"><span class=\"tadpole\"></span>Booked 18 times today</div>,\n",
              " <div class=\"booking\"><span class=\"tadpole\"></span>Booked 18 times today</div>,\n",
              " <div class=\"booking\"><span class=\"tadpole\"></span>Booked 25 times today</div>,\n",
              " <div class=\"booking\"><span class=\"tadpole\"></span>Booked 9 times today</div>,\n",
              " <div class=\"booking\"><span class=\"tadpole\"></span>Booked 27 times today</div>,\n",
              " <div class=\"booking\"><span class=\"tadpole\"></span>Booked 17 times today</div>,\n",
              " <div class=\"booking\"><span class=\"tadpole\"></span>Booked 20 times today</div>,\n",
              " <div class=\"booking\"><span class=\"tadpole\"></span>Booked 7 times today</div>,\n",
              " <div class=\"booking\"><span class=\"tadpole\"></span>Booked 9 times today</div>,\n",
              " <div class=\"booking\"><span class=\"tadpole\"></span>Booked 52 times today</div>,\n",
              " <div class=\"booking\"><span class=\"tadpole\"></span>Booked 23 times today</div>,\n",
              " <div class=\"booking\"><span class=\"tadpole\"></span>Booked 5 times today</div>,\n",
              " <div class=\"booking\"><span class=\"tadpole\"></span>Booked 23 times today</div>,\n",
              " <div class=\"booking\"><span class=\"tadpole\"></span>Booked 30 times today</div>,\n",
              " <div class=\"booking\"><span class=\"tadpole\"></span>Booked 19 times today</div>,\n",
              " <div class=\"booking\"><span class=\"tadpole\"></span>Booked 14 times today</div>,\n",
              " <div class=\"booking\"><span class=\"tadpole\"></span>Booked 99 times today</div>,\n",
              " <div class=\"booking\"><span class=\"tadpole\"></span>Booked 19 times today</div>,\n",
              " <div class=\"booking\"><span class=\"tadpole\"></span>Booked 12 times today</div>,\n",
              " <div class=\"booking\"><span class=\"tadpole\"></span>Booked 14 times today</div>,\n",
              " <div class=\"booking\"><span class=\"tadpole\"></span>Booked 2 times today</div>,\n",
              " <div class=\"booking\"><span class=\"tadpole\"></span>Booked 8 times today</div>,\n",
              " <div class=\"booking\"><span class=\"tadpole\"></span>Booked 18 times today</div>,\n",
              " <div class=\"booking\"><span class=\"tadpole\"></span>Booked 4 times today</div>,\n",
              " <div class=\"booking\"><span class=\"tadpole\"></span>Booked 7 times today</div>,\n",
              " <div class=\"booking\"><span class=\"tadpole\"></span>Booked 6 times today</div>,\n",
              " <div class=\"booking\"><span class=\"tadpole\"></span>Booked 11 times today</div>,\n",
              " <div class=\"booking\"><span class=\"tadpole\"></span>Booked 8 times today</div>,\n",
              " <div class=\"booking\"><span class=\"tadpole\"></span>Booked 25 times today</div>,\n",
              " <div class=\"booking\"><span class=\"tadpole\"></span>Booked 7 times today</div>,\n",
              " <div class=\"booking\"><span class=\"tadpole\"></span>Booked 6 times today</div>]"
            ]
          },
          "metadata": {
            "tags": []
          },
          "execution_count": 31
        }
      ]
    },
    {
      "cell_type": "code",
      "metadata": {
        "scrolled": true,
        "id": "YYpC0R-9qm2p",
        "colab_type": "code",
        "colab": {},
        "outputId": "8a9eb8be-62f2-4a47-fd1d-21a7aca6a360"
      },
      "source": [
        "# now print out each booking for the listings using a loop\n",
        "for entry in html.find_all('div', {'class':'booking'}):\n",
        "    print(entry)"
      ],
      "execution_count": 0,
      "outputs": [
        {
          "output_type": "stream",
          "text": [
            "<div class=\"booking\"><span class=\"tadpole\"></span>Booked 423 times today</div>\n",
            "<div class=\"booking\"><span class=\"tadpole\"></span>Booked 259 times today</div>\n",
            "<div class=\"booking\"><span class=\"tadpole\"></span>Booked 208 times today</div>\n",
            "<div class=\"booking\"><span class=\"tadpole\"></span>Booked 247 times today</div>\n",
            "<div class=\"booking\"><span class=\"tadpole\"></span>Booked 101 times today</div>\n",
            "<div class=\"booking\"><span class=\"tadpole\"></span>Booked 73 times today</div>\n",
            "<div class=\"booking\"><span class=\"tadpole\"></span>Booked 80 times today</div>\n",
            "<div class=\"booking\"><span class=\"tadpole\"></span>Booked 112 times today</div>\n",
            "<div class=\"booking\"><span class=\"tadpole\"></span>Booked 43 times today</div>\n",
            "<div class=\"booking\"><span class=\"tadpole\"></span>Booked 31 times today</div>\n",
            "<div class=\"booking\"><span class=\"tadpole\"></span>Booked 49 times today</div>\n",
            "<div class=\"booking\"><span class=\"tadpole\"></span>Booked 43 times today</div>\n",
            "<div class=\"booking\"><span class=\"tadpole\"></span>Booked 42 times today</div>\n",
            "<div class=\"booking\"><span class=\"tadpole\"></span>Booked 59 times today</div>\n",
            "<div class=\"booking\"><span class=\"tadpole\"></span>Booked 26 times today</div>\n",
            "<div class=\"booking\"><span class=\"tadpole\"></span>Booked 67 times today</div>\n",
            "<div class=\"booking\"><span class=\"tadpole\"></span>Booked 52 times today</div>\n",
            "<div class=\"booking\"><span class=\"tadpole\"></span>Booked 55 times today</div>\n",
            "<div class=\"booking\"><span class=\"tadpole\"></span>Booked 62 times today</div>\n",
            "<div class=\"booking\"><span class=\"tadpole\"></span>Booked 47 times today</div>\n",
            "<div class=\"booking\"><span class=\"tadpole\"></span>Booked 60 times today</div>\n",
            "<div class=\"booking\"><span class=\"tadpole\"></span>Booked 50 times today</div>\n",
            "<div class=\"booking\"><span class=\"tadpole\"></span>Booked 47 times today</div>\n",
            "<div class=\"booking\"><span class=\"tadpole\"></span>Booked 42 times today</div>\n",
            "<div class=\"booking\"><span class=\"tadpole\"></span>Booked 32 times today</div>\n",
            "<div class=\"booking\"><span class=\"tadpole\"></span>Booked 34 times today</div>\n",
            "<div class=\"booking\"><span class=\"tadpole\"></span>Booked 46 times today</div>\n",
            "<div class=\"booking\"><span class=\"tadpole\"></span>Booked 52 times today</div>\n",
            "<div class=\"booking\"><span class=\"tadpole\"></span>Booked 11 times today</div>\n",
            "<div class=\"booking\"><span class=\"tadpole\"></span>Booked 12 times today</div>\n",
            "<div class=\"booking\"><span class=\"tadpole\"></span>Booked 20 times today</div>\n",
            "<div class=\"booking\"><span class=\"tadpole\"></span>Booked 15 times today</div>\n",
            "<div class=\"booking\"><span class=\"tadpole\"></span>Booked 26 times today</div>\n",
            "<div class=\"booking\"><span class=\"tadpole\"></span>Booked 19 times today</div>\n",
            "<div class=\"booking\"><span class=\"tadpole\"></span>Booked 28 times today</div>\n",
            "<div class=\"booking\"><span class=\"tadpole\"></span>Booked 40 times today</div>\n",
            "<div class=\"booking\"><span class=\"tadpole\"></span>Booked 11 times today</div>\n",
            "<div class=\"booking\"><span class=\"tadpole\"></span>Booked 49 times today</div>\n",
            "<div class=\"booking\"><span class=\"tadpole\"></span>Booked 21 times today</div>\n",
            "<div class=\"booking\"><span class=\"tadpole\"></span>Booked 26 times today</div>\n",
            "<div class=\"booking\"><span class=\"tadpole\"></span>Booked 27 times today</div>\n",
            "<div class=\"booking\"><span class=\"tadpole\"></span>Booked 13 times today</div>\n",
            "<div class=\"booking\"><span class=\"tadpole\"></span>Booked 28 times today</div>\n",
            "<div class=\"booking\"><span class=\"tadpole\"></span>Booked 40 times today</div>\n",
            "<div class=\"booking\"><span class=\"tadpole\"></span>Booked 38 times today</div>\n",
            "<div class=\"booking\"><span class=\"tadpole\"></span>Booked 27 times today</div>\n",
            "<div class=\"booking\"><span class=\"tadpole\"></span>Booked 14 times today</div>\n",
            "<div class=\"booking\"><span class=\"tadpole\"></span>Booked 16 times today</div>\n",
            "<div class=\"booking\"><span class=\"tadpole\"></span>Booked 18 times today</div>\n",
            "<div class=\"booking\"><span class=\"tadpole\"></span>Booked 15 times today</div>\n",
            "<div class=\"booking\"><span class=\"tadpole\"></span>Booked 52 times today</div>\n",
            "<div class=\"booking\"><span class=\"tadpole\"></span>Booked 49 times today</div>\n",
            "<div class=\"booking\"><span class=\"tadpole\"></span>Booked 54 times today</div>\n",
            "<div class=\"booking\"><span class=\"tadpole\"></span>Booked 13 times today</div>\n",
            "<div class=\"booking\"><span class=\"tadpole\"></span>Booked 26 times today</div>\n",
            "<div class=\"booking\"><span class=\"tadpole\"></span>Booked 1 times today</div>\n",
            "<div class=\"booking\"><span class=\"tadpole\"></span>Booked 12 times today</div>\n",
            "<div class=\"booking\"><span class=\"tadpole\"></span>Booked 35 times today</div>\n",
            "<div class=\"booking\"><span class=\"tadpole\"></span>Booked 19 times today</div>\n",
            "<div class=\"booking\"><span class=\"tadpole\"></span>Booked 24 times today</div>\n",
            "<div class=\"booking\"><span class=\"tadpole\"></span>Booked 43 times today</div>\n",
            "<div class=\"booking\"><span class=\"tadpole\"></span>Booked 13 times today</div>\n",
            "<div class=\"booking\"><span class=\"tadpole\"></span>Booked 14 times today</div>\n",
            "<div class=\"booking\"><span class=\"tadpole\"></span>Booked 23 times today</div>\n",
            "<div class=\"booking\"><span class=\"tadpole\"></span>Booked 50 times today</div>\n",
            "<div class=\"booking\"><span class=\"tadpole\"></span>Booked 19 times today</div>\n",
            "<div class=\"booking\"><span class=\"tadpole\"></span>Booked 20 times today</div>\n",
            "<div class=\"booking\"><span class=\"tadpole\"></span>Booked 18 times today</div>\n",
            "<div class=\"booking\"><span class=\"tadpole\"></span>Booked 18 times today</div>\n",
            "<div class=\"booking\"><span class=\"tadpole\"></span>Booked 25 times today</div>\n",
            "<div class=\"booking\"><span class=\"tadpole\"></span>Booked 9 times today</div>\n",
            "<div class=\"booking\"><span class=\"tadpole\"></span>Booked 27 times today</div>\n",
            "<div class=\"booking\"><span class=\"tadpole\"></span>Booked 17 times today</div>\n",
            "<div class=\"booking\"><span class=\"tadpole\"></span>Booked 20 times today</div>\n",
            "<div class=\"booking\"><span class=\"tadpole\"></span>Booked 7 times today</div>\n",
            "<div class=\"booking\"><span class=\"tadpole\"></span>Booked 9 times today</div>\n",
            "<div class=\"booking\"><span class=\"tadpole\"></span>Booked 52 times today</div>\n",
            "<div class=\"booking\"><span class=\"tadpole\"></span>Booked 23 times today</div>\n",
            "<div class=\"booking\"><span class=\"tadpole\"></span>Booked 5 times today</div>\n",
            "<div class=\"booking\"><span class=\"tadpole\"></span>Booked 23 times today</div>\n",
            "<div class=\"booking\"><span class=\"tadpole\"></span>Booked 30 times today</div>\n",
            "<div class=\"booking\"><span class=\"tadpole\"></span>Booked 19 times today</div>\n",
            "<div class=\"booking\"><span class=\"tadpole\"></span>Booked 14 times today</div>\n",
            "<div class=\"booking\"><span class=\"tadpole\"></span>Booked 99 times today</div>\n",
            "<div class=\"booking\"><span class=\"tadpole\"></span>Booked 19 times today</div>\n",
            "<div class=\"booking\"><span class=\"tadpole\"></span>Booked 12 times today</div>\n",
            "<div class=\"booking\"><span class=\"tadpole\"></span>Booked 14 times today</div>\n",
            "<div class=\"booking\"><span class=\"tadpole\"></span>Booked 2 times today</div>\n",
            "<div class=\"booking\"><span class=\"tadpole\"></span>Booked 8 times today</div>\n",
            "<div class=\"booking\"><span class=\"tadpole\"></span>Booked 18 times today</div>\n",
            "<div class=\"booking\"><span class=\"tadpole\"></span>Booked 4 times today</div>\n",
            "<div class=\"booking\"><span class=\"tadpole\"></span>Booked 7 times today</div>\n",
            "<div class=\"booking\"><span class=\"tadpole\"></span>Booked 6 times today</div>\n",
            "<div class=\"booking\"><span class=\"tadpole\"></span>Booked 11 times today</div>\n",
            "<div class=\"booking\"><span class=\"tadpole\"></span>Booked 8 times today</div>\n",
            "<div class=\"booking\"><span class=\"tadpole\"></span>Booked 25 times today</div>\n",
            "<div class=\"booking\"><span class=\"tadpole\"></span>Booked 7 times today</div>\n",
            "<div class=\"booking\"><span class=\"tadpole\"></span>Booked 6 times today</div>\n"
          ],
          "name": "stdout"
        }
      ]
    },
    {
      "cell_type": "markdown",
      "metadata": {
        "id": "KulTVXBtqm2u",
        "colab_type": "text"
      },
      "source": [
        "Let's grab just the text of each of these entries."
      ]
    },
    {
      "cell_type": "code",
      "metadata": {
        "id": "1DADHcyiqm2u",
        "colab_type": "code",
        "colab": {},
        "outputId": "9474b59b-0022-4627-9de7-5e9f76e4ecbc"
      },
      "source": [
        "# do the same as above, but grabbing only the text content\n",
        "for entry in html.find_all('div', {'class':'booking'}):\n",
        "    print(entry.text)"
      ],
      "execution_count": 0,
      "outputs": [
        {
          "output_type": "stream",
          "text": [
            "Booked 423 times today\n",
            "Booked 259 times today\n",
            "Booked 208 times today\n",
            "Booked 247 times today\n",
            "Booked 101 times today\n",
            "Booked 73 times today\n",
            "Booked 80 times today\n",
            "Booked 112 times today\n",
            "Booked 43 times today\n",
            "Booked 31 times today\n",
            "Booked 49 times today\n",
            "Booked 43 times today\n",
            "Booked 42 times today\n",
            "Booked 59 times today\n",
            "Booked 26 times today\n",
            "Booked 67 times today\n",
            "Booked 52 times today\n",
            "Booked 55 times today\n",
            "Booked 62 times today\n",
            "Booked 47 times today\n",
            "Booked 60 times today\n",
            "Booked 50 times today\n",
            "Booked 47 times today\n",
            "Booked 42 times today\n",
            "Booked 32 times today\n",
            "Booked 34 times today\n",
            "Booked 46 times today\n",
            "Booked 52 times today\n",
            "Booked 11 times today\n",
            "Booked 12 times today\n",
            "Booked 20 times today\n",
            "Booked 15 times today\n",
            "Booked 26 times today\n",
            "Booked 19 times today\n",
            "Booked 28 times today\n",
            "Booked 40 times today\n",
            "Booked 11 times today\n",
            "Booked 49 times today\n",
            "Booked 21 times today\n",
            "Booked 26 times today\n",
            "Booked 27 times today\n",
            "Booked 13 times today\n",
            "Booked 28 times today\n",
            "Booked 40 times today\n",
            "Booked 38 times today\n",
            "Booked 27 times today\n",
            "Booked 14 times today\n",
            "Booked 16 times today\n",
            "Booked 18 times today\n",
            "Booked 15 times today\n",
            "Booked 52 times today\n",
            "Booked 49 times today\n",
            "Booked 54 times today\n",
            "Booked 13 times today\n",
            "Booked 26 times today\n",
            "Booked 1 times today\n",
            "Booked 12 times today\n",
            "Booked 35 times today\n",
            "Booked 19 times today\n",
            "Booked 24 times today\n",
            "Booked 43 times today\n",
            "Booked 13 times today\n",
            "Booked 14 times today\n",
            "Booked 23 times today\n",
            "Booked 50 times today\n",
            "Booked 19 times today\n",
            "Booked 20 times today\n",
            "Booked 18 times today\n",
            "Booked 18 times today\n",
            "Booked 25 times today\n",
            "Booked 9 times today\n",
            "Booked 27 times today\n",
            "Booked 17 times today\n",
            "Booked 20 times today\n",
            "Booked 7 times today\n",
            "Booked 9 times today\n",
            "Booked 52 times today\n",
            "Booked 23 times today\n",
            "Booked 5 times today\n",
            "Booked 23 times today\n",
            "Booked 30 times today\n",
            "Booked 19 times today\n",
            "Booked 14 times today\n",
            "Booked 99 times today\n",
            "Booked 19 times today\n",
            "Booked 12 times today\n",
            "Booked 14 times today\n",
            "Booked 2 times today\n",
            "Booked 8 times today\n",
            "Booked 18 times today\n",
            "Booked 4 times today\n",
            "Booked 7 times today\n",
            "Booked 6 times today\n",
            "Booked 11 times today\n",
            "Booked 8 times today\n",
            "Booked 25 times today\n",
            "Booked 7 times today\n",
            "Booked 6 times today\n"
          ],
          "name": "stdout"
        }
      ]
    },
    {
      "cell_type": "code",
      "metadata": {
        "collapsed": true,
        "id": "D3AiUpYiqm2z",
        "colab_type": "code",
        "colab": {}
      },
      "source": [
        "driver.close()"
      ],
      "execution_count": 0,
      "outputs": []
    },
    {
      "cell_type": "markdown",
      "metadata": {
        "id": "ApScuiqRqm24",
        "colab_type": "text"
      },
      "source": [
        "We've succeeded!\n",
        "\n",
        "<a id=\"selenium-regex\"></a>\n",
        "### Using regex to only get digits\n",
        "\n",
        "But we can clean this up a little bit. We're going to use regular expressions (regex) to grab only the digits that are available in each of the text.\n",
        "\n",
        "The best way to get good at regex is to, well, just keep trying and testing: http://pythex.org/"
      ]
    },
    {
      "cell_type": "code",
      "metadata": {
        "collapsed": true,
        "id": "fKUvs-E3qm25",
        "colab_type": "code",
        "colab": {}
      },
      "source": [
        "# import regex\n",
        "import re"
      ],
      "execution_count": 0,
      "outputs": []
    },
    {
      "cell_type": "markdown",
      "metadata": {
        "id": "bSO65-AEqm28",
        "colab_type": "text"
      },
      "source": [
        "Given we haven't covered regex, I'll show you how to use the search function to match any given digit."
      ]
    },
    {
      "cell_type": "code",
      "metadata": {
        "id": "5oaPWOoHqm29",
        "colab_type": "code",
        "colab": {},
        "outputId": "1f2d1962-d108-4b63-8f0e-2f828b19160b"
      },
      "source": [
        "# for each entry, grab the text\n",
        "for booking in html.find_all('div', {'class':'booking'}):\n",
        "    # match all digits\n",
        "    match = re.search(r'\\d+', booking.text)\n",
        "    \n",
        "    if match:\n",
        "        # print if found\n",
        "        print(match.group())\n",
        "    else:\n",
        "        # otherwise pass\n",
        "        pass"
      ],
      "execution_count": 0,
      "outputs": [
        {
          "output_type": "stream",
          "text": [
            "423\n",
            "259\n",
            "208\n",
            "247\n",
            "101\n",
            "73\n",
            "80\n",
            "112\n",
            "43\n",
            "31\n",
            "49\n",
            "43\n",
            "42\n",
            "59\n",
            "26\n",
            "67\n",
            "52\n",
            "55\n",
            "62\n",
            "47\n",
            "60\n",
            "50\n",
            "47\n",
            "42\n",
            "32\n",
            "34\n",
            "46\n",
            "52\n",
            "11\n",
            "12\n",
            "20\n",
            "15\n",
            "26\n",
            "19\n",
            "28\n",
            "40\n",
            "11\n",
            "49\n",
            "21\n",
            "26\n",
            "27\n",
            "13\n",
            "28\n",
            "40\n",
            "38\n",
            "27\n",
            "14\n",
            "16\n",
            "18\n",
            "15\n",
            "52\n",
            "49\n",
            "54\n",
            "13\n",
            "26\n",
            "1\n",
            "12\n",
            "35\n",
            "19\n",
            "24\n",
            "43\n",
            "13\n",
            "14\n",
            "23\n",
            "50\n",
            "19\n",
            "20\n",
            "18\n",
            "18\n",
            "25\n",
            "9\n",
            "27\n",
            "17\n",
            "20\n",
            "7\n",
            "9\n",
            "52\n",
            "23\n",
            "5\n",
            "23\n",
            "30\n",
            "19\n",
            "14\n",
            "99\n",
            "19\n",
            "12\n",
            "14\n",
            "2\n",
            "8\n",
            "18\n",
            "4\n",
            "7\n",
            "6\n",
            "11\n",
            "8\n",
            "25\n",
            "7\n",
            "6\n"
          ],
          "name": "stdout"
        }
      ]
    },
    {
      "cell_type": "markdown",
      "metadata": {
        "id": "heojqo8oqm3E",
        "colab_type": "text"
      },
      "source": [
        "Before we demonstrate all the other amazing things about headless browsers, let's finish up collecting the data we want from this current example. Do you suppose the html parsing we wrote above will still work on the page source we've grabbed from our headless browser?"
      ]
    },
    {
      "cell_type": "markdown",
      "metadata": {
        "id": "8JUYrhwbqm3F",
        "colab_type": "text"
      },
      "source": [
        "To be most efficient, we want to only do a single loop for each entry on the page. That means we want to find what element all of other other elements (name, location, price, bookings) is housed within. Where on the page is each entry located?"
      ]
    },
    {
      "cell_type": "code",
      "metadata": {
        "collapsed": true,
        "id": "7TJlxxUdqm3I",
        "colab_type": "code",
        "colab": {}
      },
      "source": [
        "# print out all entries\n",
        "#   NOTE: Has many entries. Uncomment the below code to run it!\n",
        "\n",
        "# soup.find_all('div', {'class':'result content-section-list-row cf with-times'})"
      ],
      "execution_count": 0,
      "outputs": []
    },
    {
      "cell_type": "markdown",
      "metadata": {
        "id": "to9FSWlUqm3N",
        "colab_type": "text"
      },
      "source": [
        "Look over the page. Does every single entry have each element we're seeking?\n",
        "> I did this previously. I know for a fact that not every element has a number of recent bookings. That's probably exactly why OpenTable houses this in JavaScript: they want to continously update the number of bookings with the most relevant number of values."
      ]
    },
    {
      "cell_type": "code",
      "metadata": {
        "scrolled": true,
        "id": "wmgZNr8qqm3O",
        "colab_type": "code",
        "colab": {},
        "outputId": "04668c82-4540-43b3-c38c-5c12023d7ef9"
      },
      "source": [
        "# We want to only retrieve the text of the bookings.\n",
        "# But what would happen if we just naively print the text of each node?\n",
        "\n",
        "for entry in html.find_all('div', {'class':'result content-section-list-row cf with-times'}):\n",
        "    print(entry.find('div', {'class':'booking'}))   # try adding .text"
      ],
      "execution_count": 0,
      "outputs": [
        {
          "output_type": "stream",
          "text": [
            "None\n",
            "None\n",
            "<div class=\"booking\"><span class=\"tadpole\"></span>Booked 423 times today</div>\n",
            "<div class=\"booking\"><span class=\"tadpole\"></span>Booked 259 times today</div>\n",
            "<div class=\"booking\"><span class=\"tadpole\"></span>Booked 208 times today</div>\n",
            "<div class=\"booking\"><span class=\"tadpole\"></span>Booked 247 times today</div>\n",
            "<div class=\"booking\"><span class=\"tadpole\"></span>Booked 101 times today</div>\n",
            "<div class=\"booking\"><span class=\"tadpole\"></span>Booked 73 times today</div>\n",
            "<div class=\"booking\"><span class=\"tadpole\"></span>Booked 80 times today</div>\n",
            "<div class=\"booking\"><span class=\"tadpole\"></span>Booked 112 times today</div>\n",
            "<div class=\"booking\"><span class=\"tadpole\"></span>Booked 43 times today</div>\n",
            "<div class=\"booking\"><span class=\"tadpole\"></span>Booked 31 times today</div>\n",
            "<div class=\"booking\"><span class=\"tadpole\"></span>Booked 49 times today</div>\n",
            "<div class=\"booking\"><span class=\"tadpole\"></span>Booked 43 times today</div>\n",
            "<div class=\"booking\"><span class=\"tadpole\"></span>Booked 42 times today</div>\n",
            "<div class=\"booking\"><span class=\"tadpole\"></span>Booked 59 times today</div>\n",
            "<div class=\"booking\"><span class=\"tadpole\"></span>Booked 26 times today</div>\n",
            "<div class=\"booking\"><span class=\"tadpole\"></span>Booked 67 times today</div>\n",
            "<div class=\"booking\"><span class=\"tadpole\"></span>Booked 52 times today</div>\n",
            "<div class=\"booking\"><span class=\"tadpole\"></span>Booked 55 times today</div>\n",
            "<div class=\"booking\"><span class=\"tadpole\"></span>Booked 62 times today</div>\n",
            "<div class=\"booking\"><span class=\"tadpole\"></span>Booked 47 times today</div>\n",
            "<div class=\"booking\"><span class=\"tadpole\"></span>Booked 60 times today</div>\n",
            "<div class=\"booking\"><span class=\"tadpole\"></span>Booked 50 times today</div>\n",
            "<div class=\"booking\"><span class=\"tadpole\"></span>Booked 47 times today</div>\n",
            "<div class=\"booking\"><span class=\"tadpole\"></span>Booked 42 times today</div>\n",
            "<div class=\"booking\"><span class=\"tadpole\"></span>Booked 32 times today</div>\n",
            "<div class=\"booking\"><span class=\"tadpole\"></span>Booked 34 times today</div>\n",
            "<div class=\"booking\"><span class=\"tadpole\"></span>Booked 46 times today</div>\n",
            "<div class=\"booking\"><span class=\"tadpole\"></span>Booked 52 times today</div>\n",
            "<div class=\"booking\"><span class=\"tadpole\"></span>Booked 11 times today</div>\n",
            "<div class=\"booking\"><span class=\"tadpole\"></span>Booked 12 times today</div>\n",
            "<div class=\"booking\"><span class=\"tadpole\"></span>Booked 20 times today</div>\n",
            "<div class=\"booking\"><span class=\"tadpole\"></span>Booked 15 times today</div>\n",
            "<div class=\"booking\"><span class=\"tadpole\"></span>Booked 26 times today</div>\n",
            "<div class=\"booking\"><span class=\"tadpole\"></span>Booked 19 times today</div>\n",
            "<div class=\"booking\"><span class=\"tadpole\"></span>Booked 28 times today</div>\n",
            "<div class=\"booking\"><span class=\"tadpole\"></span>Booked 40 times today</div>\n",
            "<div class=\"booking\"><span class=\"tadpole\"></span>Booked 11 times today</div>\n",
            "<div class=\"booking\"><span class=\"tadpole\"></span>Booked 49 times today</div>\n",
            "<div class=\"booking\"><span class=\"tadpole\"></span>Booked 21 times today</div>\n",
            "<div class=\"booking\"><span class=\"tadpole\"></span>Booked 26 times today</div>\n",
            "<div class=\"booking\"><span class=\"tadpole\"></span>Booked 27 times today</div>\n",
            "<div class=\"booking\"><span class=\"tadpole\"></span>Booked 13 times today</div>\n",
            "<div class=\"booking\"><span class=\"tadpole\"></span>Booked 28 times today</div>\n",
            "<div class=\"booking\"><span class=\"tadpole\"></span>Booked 40 times today</div>\n",
            "<div class=\"booking\"><span class=\"tadpole\"></span>Booked 38 times today</div>\n",
            "<div class=\"booking\"><span class=\"tadpole\"></span>Booked 27 times today</div>\n",
            "<div class=\"booking\"><span class=\"tadpole\"></span>Booked 14 times today</div>\n",
            "<div class=\"booking\"><span class=\"tadpole\"></span>Booked 16 times today</div>\n",
            "<div class=\"booking\"><span class=\"tadpole\"></span>Booked 18 times today</div>\n",
            "<div class=\"booking\"><span class=\"tadpole\"></span>Booked 15 times today</div>\n",
            "<div class=\"booking\"><span class=\"tadpole\"></span>Booked 52 times today</div>\n",
            "<div class=\"booking\"><span class=\"tadpole\"></span>Booked 49 times today</div>\n",
            "<div class=\"booking\"><span class=\"tadpole\"></span>Booked 54 times today</div>\n",
            "<div class=\"booking\"><span class=\"tadpole\"></span>Booked 13 times today</div>\n",
            "<div class=\"booking\"><span class=\"tadpole\"></span>Booked 26 times today</div>\n",
            "<div class=\"booking\"><span class=\"tadpole\"></span>Booked 1 times today</div>\n",
            "<div class=\"booking\"><span class=\"tadpole\"></span>Booked 12 times today</div>\n",
            "<div class=\"booking\"><span class=\"tadpole\"></span>Booked 35 times today</div>\n",
            "<div class=\"booking\"><span class=\"tadpole\"></span>Booked 19 times today</div>\n",
            "<div class=\"booking\"><span class=\"tadpole\"></span>Booked 24 times today</div>\n",
            "<div class=\"booking\"><span class=\"tadpole\"></span>Booked 43 times today</div>\n",
            "<div class=\"booking\"><span class=\"tadpole\"></span>Booked 13 times today</div>\n",
            "<div class=\"booking\"><span class=\"tadpole\"></span>Booked 14 times today</div>\n",
            "<div class=\"booking\"><span class=\"tadpole\"></span>Booked 23 times today</div>\n",
            "<div class=\"booking\"><span class=\"tadpole\"></span>Booked 50 times today</div>\n",
            "<div class=\"booking\"><span class=\"tadpole\"></span>Booked 19 times today</div>\n",
            "<div class=\"booking\"><span class=\"tadpole\"></span>Booked 20 times today</div>\n",
            "<div class=\"booking\"><span class=\"tadpole\"></span>Booked 18 times today</div>\n",
            "<div class=\"booking\"><span class=\"tadpole\"></span>Booked 18 times today</div>\n",
            "<div class=\"booking\"><span class=\"tadpole\"></span>Booked 25 times today</div>\n",
            "<div class=\"booking\"><span class=\"tadpole\"></span>Booked 9 times today</div>\n",
            "<div class=\"booking\"><span class=\"tadpole\"></span>Booked 27 times today</div>\n",
            "<div class=\"booking\"><span class=\"tadpole\"></span>Booked 17 times today</div>\n",
            "<div class=\"booking\"><span class=\"tadpole\"></span>Booked 20 times today</div>\n",
            "<div class=\"booking\"><span class=\"tadpole\"></span>Booked 7 times today</div>\n",
            "<div class=\"booking\"><span class=\"tadpole\"></span>Booked 9 times today</div>\n",
            "<div class=\"booking\"><span class=\"tadpole\"></span>Booked 52 times today</div>\n",
            "<div class=\"booking\"><span class=\"tadpole\"></span>Booked 23 times today</div>\n",
            "<div class=\"booking\"><span class=\"tadpole\"></span>Booked 5 times today</div>\n",
            "<div class=\"booking\"><span class=\"tadpole\"></span>Booked 23 times today</div>\n",
            "<div class=\"booking\"><span class=\"tadpole\"></span>Booked 30 times today</div>\n",
            "<div class=\"booking\"><span class=\"tadpole\"></span>Booked 19 times today</div>\n",
            "<div class=\"booking\"><span class=\"tadpole\"></span>Booked 14 times today</div>\n",
            "<div class=\"booking\"><span class=\"tadpole\"></span>Booked 99 times today</div>\n",
            "<div class=\"booking\"><span class=\"tadpole\"></span>Booked 19 times today</div>\n",
            "<div class=\"booking\"><span class=\"tadpole\"></span>Booked 12 times today</div>\n",
            "<div class=\"booking\"><span class=\"tadpole\"></span>Booked 14 times today</div>\n",
            "<div class=\"booking\"><span class=\"tadpole\"></span>Booked 2 times today</div>\n",
            "<div class=\"booking\"><span class=\"tadpole\"></span>Booked 8 times today</div>\n",
            "<div class=\"booking\"><span class=\"tadpole\"></span>Booked 18 times today</div>\n",
            "<div class=\"booking\"><span class=\"tadpole\"></span>Booked 4 times today</div>\n",
            "<div class=\"booking\"><span class=\"tadpole\"></span>Booked 7 times today</div>\n",
            "<div class=\"booking\"><span class=\"tadpole\"></span>Booked 6 times today</div>\n",
            "<div class=\"booking\"><span class=\"tadpole\"></span>Booked 11 times today</div>\n",
            "<div class=\"booking\"><span class=\"tadpole\"></span>Booked 8 times today</div>\n",
            "<div class=\"booking\"><span class=\"tadpole\"></span>Booked 25 times today</div>\n",
            "<div class=\"booking\"><span class=\"tadpole\"></span>Booked 7 times today</div>\n",
            "<div class=\"booking\"><span class=\"tadpole\"></span>Booked 6 times today</div>\n"
          ],
          "name": "stdout"
        }
      ]
    },
    {
      "cell_type": "code",
      "metadata": {
        "id": "i1QebAwbqm3S",
        "colab_type": "code",
        "colab": {},
        "outputId": "02ea762c-0472-47ad-bdc3-d187cf0d1b41"
      },
      "source": [
        "# if we find the element we want, we print it. Otherwise, we print 'ZERO'\n",
        "for entry in html.find_all('div', {'class':'result content-section-list-row cf with-times'}):\n",
        "        divs = entry.find('div', {'class':'booking'})\n",
        "        \n",
        "        if divs:\n",
        "            print(divs.text)\n",
        "        else:\n",
        "            print('ZERO')"
      ],
      "execution_count": 0,
      "outputs": [
        {
          "output_type": "stream",
          "text": [
            "ZERO\n",
            "ZERO\n",
            "Booked 423 times today\n",
            "Booked 259 times today\n",
            "Booked 208 times today\n",
            "Booked 247 times today\n",
            "Booked 101 times today\n",
            "Booked 73 times today\n",
            "Booked 80 times today\n",
            "Booked 112 times today\n",
            "Booked 43 times today\n",
            "Booked 31 times today\n",
            "Booked 49 times today\n",
            "Booked 43 times today\n",
            "Booked 42 times today\n",
            "Booked 59 times today\n",
            "Booked 26 times today\n",
            "Booked 67 times today\n",
            "Booked 52 times today\n",
            "Booked 55 times today\n",
            "Booked 62 times today\n",
            "Booked 47 times today\n",
            "Booked 60 times today\n",
            "Booked 50 times today\n",
            "Booked 47 times today\n",
            "Booked 42 times today\n",
            "Booked 32 times today\n",
            "Booked 34 times today\n",
            "Booked 46 times today\n",
            "Booked 52 times today\n",
            "Booked 11 times today\n",
            "Booked 12 times today\n",
            "Booked 20 times today\n",
            "Booked 15 times today\n",
            "Booked 26 times today\n",
            "Booked 19 times today\n",
            "Booked 28 times today\n",
            "Booked 40 times today\n",
            "Booked 11 times today\n",
            "Booked 49 times today\n",
            "Booked 21 times today\n",
            "Booked 26 times today\n",
            "Booked 27 times today\n",
            "Booked 13 times today\n",
            "Booked 28 times today\n",
            "Booked 40 times today\n",
            "Booked 38 times today\n",
            "Booked 27 times today\n",
            "Booked 14 times today\n",
            "Booked 16 times today\n",
            "Booked 18 times today\n",
            "Booked 15 times today\n",
            "Booked 52 times today\n",
            "Booked 49 times today\n",
            "Booked 54 times today\n",
            "Booked 13 times today\n",
            "Booked 26 times today\n",
            "Booked 1 times today\n",
            "Booked 12 times today\n",
            "Booked 35 times today\n",
            "Booked 19 times today\n",
            "Booked 24 times today\n",
            "Booked 43 times today\n",
            "Booked 13 times today\n",
            "Booked 14 times today\n",
            "Booked 23 times today\n",
            "Booked 50 times today\n",
            "Booked 19 times today\n",
            "Booked 20 times today\n",
            "Booked 18 times today\n",
            "Booked 18 times today\n",
            "Booked 25 times today\n",
            "Booked 9 times today\n",
            "Booked 27 times today\n",
            "Booked 17 times today\n",
            "Booked 20 times today\n",
            "Booked 7 times today\n",
            "Booked 9 times today\n",
            "Booked 52 times today\n",
            "Booked 23 times today\n",
            "Booked 5 times today\n",
            "Booked 23 times today\n",
            "Booked 30 times today\n",
            "Booked 19 times today\n",
            "Booked 14 times today\n",
            "Booked 99 times today\n",
            "Booked 19 times today\n",
            "Booked 12 times today\n",
            "Booked 14 times today\n",
            "Booked 2 times today\n",
            "Booked 8 times today\n",
            "Booked 18 times today\n",
            "Booked 4 times today\n",
            "Booked 7 times today\n",
            "Booked 6 times today\n",
            "Booked 11 times today\n",
            "Booked 8 times today\n",
            "Booked 25 times today\n",
            "Booked 7 times today\n",
            "Booked 6 times today\n"
          ],
          "name": "stdout"
        }
      ]
    },
    {
      "cell_type": "markdown",
      "metadata": {
        "id": "dHAWeCorqm3W",
        "colab_type": "text"
      },
      "source": [
        "What do you notice takes the place when booking is not found?\n",
        "\n",
        "We could use exception handling (`try`/`except` blocks) to resolve this. However, exceptions should only be used to handle rare or unexpected errors -- never for normal program flow.\n",
        "\n",
        "In this case, we expect that some entries will be zero. So, we can just use an `if` statement that tests whether there are any `divs` present; if not, display `'ZERO'`. Here's a demo:"
      ]
    },
    {
      "cell_type": "code",
      "metadata": {
        "id": "jEJ83KAOqm3X",
        "colab_type": "code",
        "colab": {},
        "outputId": "1ad13692-6a19-4fb8-927d-b36761cbc294"
      },
      "source": [
        "# if we find the element we want, we print it. Otherwise, we print 'ZERO'\n",
        "for entry in html.find_all('div', {'class':'result content-section-list-row cf with-times'}):\n",
        "    booking_tag = entry.find('div', {'class':'booking'})\n",
        "    \n",
        "    if booking_tag:\n",
        "        print(booking_tag.text)\n",
        "    else:\n",
        "        print('ZERO')"
      ],
      "execution_count": 0,
      "outputs": [
        {
          "output_type": "stream",
          "text": [
            "ZERO\n",
            "ZERO\n",
            "Booked 423 times today\n",
            "Booked 259 times today\n",
            "Booked 208 times today\n",
            "Booked 247 times today\n",
            "Booked 101 times today\n",
            "Booked 73 times today\n",
            "Booked 80 times today\n",
            "Booked 112 times today\n",
            "Booked 43 times today\n",
            "Booked 31 times today\n",
            "Booked 49 times today\n",
            "Booked 43 times today\n",
            "Booked 42 times today\n",
            "Booked 59 times today\n",
            "Booked 26 times today\n",
            "Booked 67 times today\n",
            "Booked 52 times today\n",
            "Booked 55 times today\n",
            "Booked 62 times today\n",
            "Booked 47 times today\n",
            "Booked 60 times today\n",
            "Booked 50 times today\n",
            "Booked 47 times today\n",
            "Booked 42 times today\n",
            "Booked 32 times today\n",
            "Booked 34 times today\n",
            "Booked 46 times today\n",
            "Booked 52 times today\n",
            "Booked 11 times today\n",
            "Booked 12 times today\n",
            "Booked 20 times today\n",
            "Booked 15 times today\n",
            "Booked 26 times today\n",
            "Booked 19 times today\n",
            "Booked 28 times today\n",
            "Booked 40 times today\n",
            "Booked 11 times today\n",
            "Booked 49 times today\n",
            "Booked 21 times today\n",
            "Booked 26 times today\n",
            "Booked 27 times today\n",
            "Booked 13 times today\n",
            "Booked 28 times today\n",
            "Booked 40 times today\n",
            "Booked 38 times today\n",
            "Booked 27 times today\n",
            "Booked 14 times today\n",
            "Booked 16 times today\n",
            "Booked 18 times today\n",
            "Booked 15 times today\n",
            "Booked 52 times today\n",
            "Booked 49 times today\n",
            "Booked 54 times today\n",
            "Booked 13 times today\n",
            "Booked 26 times today\n",
            "Booked 1 times today\n",
            "Booked 12 times today\n",
            "Booked 35 times today\n",
            "Booked 19 times today\n",
            "Booked 24 times today\n",
            "Booked 43 times today\n",
            "Booked 13 times today\n",
            "Booked 14 times today\n",
            "Booked 23 times today\n",
            "Booked 50 times today\n",
            "Booked 19 times today\n",
            "Booked 20 times today\n",
            "Booked 18 times today\n",
            "Booked 18 times today\n",
            "Booked 25 times today\n",
            "Booked 9 times today\n",
            "Booked 27 times today\n",
            "Booked 17 times today\n",
            "Booked 20 times today\n",
            "Booked 7 times today\n",
            "Booked 9 times today\n",
            "Booked 52 times today\n",
            "Booked 23 times today\n",
            "Booked 5 times today\n",
            "Booked 23 times today\n",
            "Booked 30 times today\n",
            "Booked 19 times today\n",
            "Booked 14 times today\n",
            "Booked 99 times today\n",
            "Booked 19 times today\n",
            "Booked 12 times today\n",
            "Booked 14 times today\n",
            "Booked 2 times today\n",
            "Booked 8 times today\n",
            "Booked 18 times today\n",
            "Booked 4 times today\n",
            "Booked 7 times today\n",
            "Booked 6 times today\n",
            "Booked 11 times today\n",
            "Booked 8 times today\n",
            "Booked 25 times today\n",
            "Booked 7 times today\n",
            "Booked 6 times today\n"
          ],
          "name": "stdout"
        }
      ]
    },
    {
      "cell_type": "markdown",
      "metadata": {
        "id": "49HfjcNwqm3a",
        "colab_type": "text"
      },
      "source": [
        "After previously completing this, we observed that all other elements WILL be returned. This means we do not have to always handle these cases.\n",
        "\n",
        "<a id=\"challenge-pandas\"></a>\n",
        "### Challenge: Use Pandas to create a DataFrame of bookings\n",
        "\n",
        "However, the onus is on you to now put all the pieces together.\n",
        "\n",
        "Loop through each entry. For each entry, grab the relevant information we want (name, location, price, bookings). Produce a dataframe with the columns \"name\",\"location\",\"price\",\"bookings\" that contains the 100 entries we would like."
      ]
    },
    {
      "cell_type": "code",
      "metadata": {
        "collapsed": true,
        "id": "sBYM1E8bqm3c",
        "colab_type": "code",
        "colab": {}
      },
      "source": [
        "import pandas as pd"
      ],
      "execution_count": 0,
      "outputs": []
    },
    {
      "cell_type": "code",
      "metadata": {
        "collapsed": true,
        "id": "KnXKYB_lqm3g",
        "colab_type": "code",
        "colab": {}
      },
      "source": [
        "# I'm going to create my empty df first\n",
        "dc_eats = pd.DataFrame(columns=[\"name\",\"location\",\"price\",\"bookings\"])"
      ],
      "execution_count": 0,
      "outputs": []
    },
    {
      "cell_type": "code",
      "metadata": {
        "id": "0oksANRMqm3k",
        "colab_type": "code",
        "colab": {}
      },
      "source": [
        "for entry in html.find_all('div', {'class':'result content-section-list-row cf with-times'}):\n",
        "    # grab the name\n",
        "    name = entry.find('span', {'class':'rest-row-name-text'}).text\n",
        "    \n",
        "    # grab the location \n",
        "    location = entry.find('span', {'class':'rest-row-meta--location rest-row-meta-text'}).text\n",
        "    \n",
        "    # grab the price\n",
        "    price = entry.find('div', {'class':'rest-row-pricing'}).find('i').text.count('$')\n",
        "    \n",
        "    # try to find the number of bookings\n",
        "    bookings = 'NA'\n",
        "    booking_tag = entry.find('div', {'class':'booking'})\n",
        "    if booking_tag:\n",
        "        match = re.search('\\d+', booking_tag.text)\n",
        "        \n",
        "        if match:\n",
        "            bookings = match.group()\n",
        "    \n",
        "    dc_eats.loc[len(dc_eats)]=[name, location, price, bookings]"
      ],
      "execution_count": 0,
      "outputs": []
    },
    {
      "cell_type": "code",
      "metadata": {
        "id": "8w4Ms3oYqm3m",
        "colab_type": "code",
        "colab": {},
        "outputId": "ed7090ac-756c-499c-daef-651b5d57d48d"
      },
      "source": [
        "# check out our work\n",
        "dc_eats.head()"
      ],
      "execution_count": 0,
      "outputs": [
        {
          "output_type": "execute_result",
          "data": {
            "text/html": [
              "<div>\n",
              "<style>\n",
              "    .dataframe thead tr:only-child th {\n",
              "        text-align: right;\n",
              "    }\n",
              "\n",
              "    .dataframe thead th {\n",
              "        text-align: left;\n",
              "    }\n",
              "\n",
              "    .dataframe tbody tr th {\n",
              "        vertical-align: top;\n",
              "    }\n",
              "</style>\n",
              "<table border=\"1\" class=\"dataframe\">\n",
              "  <thead>\n",
              "    <tr style=\"text-align: right;\">\n",
              "      <th></th>\n",
              "      <th>name</th>\n",
              "      <th>location</th>\n",
              "      <th>price</th>\n",
              "      <th>bookings</th>\n",
              "    </tr>\n",
              "  </thead>\n",
              "  <tbody>\n",
              "    <tr>\n",
              "      <th>0</th>\n",
              "      <td>Joe's Place Pizza and Pasta</td>\n",
              "      <td>Arlington</td>\n",
              "      <td>2</td>\n",
              "      <td>NA</td>\n",
              "    </tr>\n",
              "    <tr>\n",
              "      <th>1</th>\n",
              "      <td>Ruffino's - Arlington</td>\n",
              "      <td>Arlington</td>\n",
              "      <td>2</td>\n",
              "      <td>NA</td>\n",
              "    </tr>\n",
              "    <tr>\n",
              "      <th>2</th>\n",
              "      <td>Founding Farmers - DC</td>\n",
              "      <td>Foggy Bottom</td>\n",
              "      <td>2</td>\n",
              "      <td>423</td>\n",
              "    </tr>\n",
              "    <tr>\n",
              "      <th>3</th>\n",
              "      <td>Farmers Fishers Bakers</td>\n",
              "      <td>Georgetown</td>\n",
              "      <td>2</td>\n",
              "      <td>259</td>\n",
              "    </tr>\n",
              "    <tr>\n",
              "      <th>4</th>\n",
              "      <td>Filomena Ristorante</td>\n",
              "      <td>Georgetown</td>\n",
              "      <td>3</td>\n",
              "      <td>208</td>\n",
              "    </tr>\n",
              "  </tbody>\n",
              "</table>\n",
              "</div>"
            ],
            "text/plain": [
              "                          name      location price bookings\n",
              "0  Joe's Place Pizza and Pasta     Arlington     2       NA\n",
              "1        Ruffino's - Arlington     Arlington     2       NA\n",
              "2        Founding Farmers - DC  Foggy Bottom     2      423\n",
              "3       Farmers Fishers Bakers    Georgetown     2      259\n",
              "4          Filomena Ristorante    Georgetown     3      208"
            ]
          },
          "metadata": {
            "tags": []
          },
          "execution_count": 58
        }
      ]
    },
    {
      "cell_type": "markdown",
      "metadata": {
        "id": "ifgrXW4Mqm3p",
        "colab_type": "text"
      },
      "source": [
        "Awesome! We succeeded.\n",
        "\n",
        "<a id=\"selenium-typing\"></a>\n",
        "### Auto-typing using Selenium\n",
        "\n",
        "Now, let's explore some of the other functionality of a webdriver. We've barely scratched the surface."
      ]
    },
    {
      "cell_type": "code",
      "metadata": {
        "collapsed": true,
        "id": "DJhjUw98qm3p",
        "colab_type": "code",
        "colab": {}
      },
      "source": [
        "# we can send keys as well\n",
        "# import\n",
        "from selenium.webdriver.common.keys import Keys"
      ],
      "execution_count": 0,
      "outputs": []
    },
    {
      "cell_type": "code",
      "metadata": {
        "collapsed": true,
        "id": "DzTCtNNVqm3v",
        "colab_type": "code",
        "colab": {}
      },
      "source": [
        "# open Firefox\n",
        "driver = webdriver.Firefox()\n",
        "# visit Python\n",
        "driver.get(\"http://www.python.org\")\n",
        "# verify we're in the right place\n",
        "assert \"Python\" in driver.title"
      ],
      "execution_count": 0,
      "outputs": []
    },
    {
      "cell_type": "markdown",
      "metadata": {
        "id": "iFrJCV0oqm30",
        "colab_type": "text"
      },
      "source": [
        "Let's try automatedly typing `pycon` in the search box and hitting the return key:"
      ]
    },
    {
      "cell_type": "code",
      "metadata": {
        "collapsed": true,
        "id": "7LKcm-2oqm31",
        "colab_type": "code",
        "colab": {}
      },
      "source": [
        "# find the search position\n",
        "elem = driver.find_element_by_name(\"q\")\n",
        "\n",
        "# clear it\n",
        "elem.clear()\n",
        "\n",
        "# type in pycon\n",
        "elem.send_keys(\"pycon\")\n",
        "\n",
        "# send those keys\n",
        "elem.send_keys(Keys.RETURN)"
      ],
      "execution_count": 0,
      "outputs": []
    },
    {
      "cell_type": "code",
      "metadata": {
        "collapsed": true,
        "id": "wlz07Kspqm33",
        "colab_type": "code",
        "colab": {}
      },
      "source": [
        "# close\n",
        "driver.close()"
      ],
      "execution_count": 0,
      "outputs": []
    },
    {
      "cell_type": "code",
      "metadata": {
        "collapsed": true,
        "id": "xXeDuyLFqm35",
        "colab_type": "code",
        "colab": {}
      },
      "source": [
        "# all at once:\n",
        "driver = webdriver.Firefox()\n",
        "driver.get(\"http://www.python.org\")\n",
        "assert \"Python\" in driver.title\n",
        "\n",
        "elem = driver.find_element_by_name(\"q\")\n",
        "elem.clear()\n",
        "elem.send_keys(\"pycon\")\n",
        "elem.send_keys(Keys.RETURN)\n",
        "#assert \"No results found.\" not in driver.page_source\n",
        "driver.close()"
      ],
      "execution_count": 0,
      "outputs": []
    },
    {
      "cell_type": "markdown",
      "metadata": {
        "id": "r6-02LEwqm37",
        "colab_type": "text"
      },
      "source": [
        "The above example (and many others) are available in the Selenium docs: http://selenium-python.readthedocs.io/getting-started.html\n",
        "\n",
        "What is especially important is exploring functionality like locating elements: http://selenium-python.readthedocs.io/locating-elements.html#locating-elements\n",
        "\n",
        "FAQ:\n",
        "http://selenium-python.readthedocs.io/faq.html"
      ]
    },
    {
      "cell_type": "markdown",
      "metadata": {
        "id": "STcaIc_Wqm38",
        "colab_type": "text"
      },
      "source": [
        "### Summary\n",
        "\n",
        "In this lesson, we used the Beautiful Soup library to locate elements on a website then scrape their text. We also used the Selenium headless browser to run JavaScript first before retrieving the page contents."
      ]
    },
    {
      "cell_type": "code",
      "metadata": {
        "collapsed": true,
        "id": "Bn6bJM5uqm3-",
        "colab_type": "code",
        "colab": {}
      },
      "source": [
        ""
      ],
      "execution_count": 0,
      "outputs": []
    }
  ]
}